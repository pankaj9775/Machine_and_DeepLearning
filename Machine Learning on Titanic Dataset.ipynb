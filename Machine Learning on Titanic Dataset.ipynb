{
 "cells": [
  {
   "cell_type": "code",
   "execution_count": 1,
   "metadata": {
    "collapsed": true
   },
   "outputs": [],
   "source": [
    "import pandas as pd\n",
    "import numpy as np\n",
    "import sklearn as sk\n",
    "import matplotlib as plt\n",
    "%matplotlib inline\n",
    "\n",
    "# machine learning\n",
    "from sklearn.model_selection import train_test_split\n",
    "from sklearn.linear_model import LogisticRegression\n",
    "from sklearn.svm import SVC, LinearSVC\n",
    "from sklearn.ensemble import RandomForestClassifier\n",
    "from sklearn.neighbors import KNeighborsClassifier\n",
    "from sklearn.naive_bayes import GaussianNB\n",
    "from sklearn import metrics\n",
    "from sklearn.naive_bayes import *\n",
    "import sklearn.neural_network as nk"
   ]
  },
  {
   "cell_type": "code",
   "execution_count": 2,
   "metadata": {
    "collapsed": false
   },
   "outputs": [],
   "source": [
    "# Load the data\n",
    "train = pd.read_csv('./data/Titanic/train.csv')\n",
    "test = pd.read_csv('./data/Titanic/test.csv')"
   ]
  },
  {
   "cell_type": "code",
   "execution_count": 3,
   "metadata": {
    "collapsed": false
   },
   "outputs": [
    {
     "data": {
      "text/html": [
       "<div>\n",
       "<table border=\"1\" class=\"dataframe\">\n",
       "  <thead>\n",
       "    <tr style=\"text-align: right;\">\n",
       "      <th></th>\n",
       "      <th>PassengerId</th>\n",
       "      <th>Survived</th>\n",
       "      <th>Pclass</th>\n",
       "      <th>Name</th>\n",
       "      <th>Sex</th>\n",
       "      <th>Age</th>\n",
       "      <th>SibSp</th>\n",
       "      <th>Parch</th>\n",
       "      <th>Ticket</th>\n",
       "      <th>Fare</th>\n",
       "      <th>Cabin</th>\n",
       "      <th>Embarked</th>\n",
       "    </tr>\n",
       "  </thead>\n",
       "  <tbody>\n",
       "    <tr>\n",
       "      <th>0</th>\n",
       "      <td>1</td>\n",
       "      <td>0</td>\n",
       "      <td>3</td>\n",
       "      <td>Braund, Mr. Owen Harris</td>\n",
       "      <td>male</td>\n",
       "      <td>22.0</td>\n",
       "      <td>1</td>\n",
       "      <td>0</td>\n",
       "      <td>A/5 21171</td>\n",
       "      <td>7.2500</td>\n",
       "      <td>NaN</td>\n",
       "      <td>S</td>\n",
       "    </tr>\n",
       "    <tr>\n",
       "      <th>1</th>\n",
       "      <td>2</td>\n",
       "      <td>1</td>\n",
       "      <td>1</td>\n",
       "      <td>Cumings, Mrs. John Bradley (Florence Briggs Th...</td>\n",
       "      <td>female</td>\n",
       "      <td>38.0</td>\n",
       "      <td>1</td>\n",
       "      <td>0</td>\n",
       "      <td>PC 17599</td>\n",
       "      <td>71.2833</td>\n",
       "      <td>C85</td>\n",
       "      <td>C</td>\n",
       "    </tr>\n",
       "    <tr>\n",
       "      <th>2</th>\n",
       "      <td>3</td>\n",
       "      <td>1</td>\n",
       "      <td>3</td>\n",
       "      <td>Heikkinen, Miss. Laina</td>\n",
       "      <td>female</td>\n",
       "      <td>26.0</td>\n",
       "      <td>0</td>\n",
       "      <td>0</td>\n",
       "      <td>STON/O2. 3101282</td>\n",
       "      <td>7.9250</td>\n",
       "      <td>NaN</td>\n",
       "      <td>S</td>\n",
       "    </tr>\n",
       "    <tr>\n",
       "      <th>3</th>\n",
       "      <td>4</td>\n",
       "      <td>1</td>\n",
       "      <td>1</td>\n",
       "      <td>Futrelle, Mrs. Jacques Heath (Lily May Peel)</td>\n",
       "      <td>female</td>\n",
       "      <td>35.0</td>\n",
       "      <td>1</td>\n",
       "      <td>0</td>\n",
       "      <td>113803</td>\n",
       "      <td>53.1000</td>\n",
       "      <td>C123</td>\n",
       "      <td>S</td>\n",
       "    </tr>\n",
       "    <tr>\n",
       "      <th>4</th>\n",
       "      <td>5</td>\n",
       "      <td>0</td>\n",
       "      <td>3</td>\n",
       "      <td>Allen, Mr. William Henry</td>\n",
       "      <td>male</td>\n",
       "      <td>35.0</td>\n",
       "      <td>0</td>\n",
       "      <td>0</td>\n",
       "      <td>373450</td>\n",
       "      <td>8.0500</td>\n",
       "      <td>NaN</td>\n",
       "      <td>S</td>\n",
       "    </tr>\n",
       "  </tbody>\n",
       "</table>\n",
       "</div>"
      ],
      "text/plain": [
       "   PassengerId  Survived  Pclass  \\\n",
       "0            1         0       3   \n",
       "1            2         1       1   \n",
       "2            3         1       3   \n",
       "3            4         1       1   \n",
       "4            5         0       3   \n",
       "\n",
       "                                                Name     Sex   Age  SibSp  \\\n",
       "0                            Braund, Mr. Owen Harris    male  22.0      1   \n",
       "1  Cumings, Mrs. John Bradley (Florence Briggs Th...  female  38.0      1   \n",
       "2                             Heikkinen, Miss. Laina  female  26.0      0   \n",
       "3       Futrelle, Mrs. Jacques Heath (Lily May Peel)  female  35.0      1   \n",
       "4                           Allen, Mr. William Henry    male  35.0      0   \n",
       "\n",
       "   Parch            Ticket     Fare Cabin Embarked  \n",
       "0      0         A/5 21171   7.2500   NaN        S  \n",
       "1      0          PC 17599  71.2833   C85        C  \n",
       "2      0  STON/O2. 3101282   7.9250   NaN        S  \n",
       "3      0            113803  53.1000  C123        S  \n",
       "4      0            373450   8.0500   NaN        S  "
      ]
     },
     "execution_count": 3,
     "metadata": {},
     "output_type": "execute_result"
    }
   ],
   "source": [
    "# Lets have a peek of train data\n",
    "train.head()"
   ]
  },
  {
   "cell_type": "code",
   "execution_count": 4,
   "metadata": {
    "collapsed": false
   },
   "outputs": [
    {
     "data": {
      "text/plain": [
       "(891, 12)"
      ]
     },
     "execution_count": 4,
     "metadata": {},
     "output_type": "execute_result"
    }
   ],
   "source": [
    "# Lets check number of rows and number features in dataset\n",
    "train.shape"
   ]
  },
  {
   "cell_type": "code",
   "execution_count": 5,
   "metadata": {
    "collapsed": false
   },
   "outputs": [
    {
     "data": {
      "text/plain": [
       "PassengerId      0\n",
       "Survived         0\n",
       "Pclass           0\n",
       "Name             0\n",
       "Sex              0\n",
       "Age            177\n",
       "SibSp            0\n",
       "Parch            0\n",
       "Ticket           0\n",
       "Fare             0\n",
       "Cabin          687\n",
       "Embarked         2\n",
       "dtype: int64"
      ]
     },
     "execution_count": 5,
     "metadata": {},
     "output_type": "execute_result"
    }
   ],
   "source": [
    "# Lets check the number of missing values in dataset\n",
    "train.isnull().sum()"
   ]
  },
  {
   "cell_type": "code",
   "execution_count": 6,
   "metadata": {
    "collapsed": false
   },
   "outputs": [
    {
     "data": {
      "text/plain": [
       "(891, 9)"
      ]
     },
     "execution_count": 6,
     "metadata": {},
     "output_type": "execute_result"
    }
   ],
   "source": [
    "# We will drop the Cabin feature as it has 687 missing values and Ticket PassengerId as values are all unique\n",
    "train = train.drop(['Cabin', 'Ticket', 'PassengerId'], axis=1)\n",
    "train.shape"
   ]
  },
  {
   "cell_type": "code",
   "execution_count": 7,
   "metadata": {
    "collapsed": false
   },
   "outputs": [],
   "source": [
    "train.Sex = train.Sex.replace(to_replace=['male', 'female'],value=[0,1])"
   ]
  },
  {
   "cell_type": "code",
   "execution_count": 8,
   "metadata": {
    "collapsed": false
   },
   "outputs": [],
   "source": [
    "male = train[train.Sex == 0]\n",
    "female = train[train.Sex == 1]"
   ]
  },
  {
   "cell_type": "code",
   "execution_count": 9,
   "metadata": {
    "collapsed": false
   },
   "outputs": [
    {
     "data": {
      "text/plain": [
       "Survived      0\n",
       "Pclass        0\n",
       "Name          0\n",
       "Sex           0\n",
       "Age         177\n",
       "SibSp         0\n",
       "Parch         0\n",
       "Fare          0\n",
       "Embarked      2\n",
       "dtype: int64"
      ]
     },
     "execution_count": 9,
     "metadata": {},
     "output_type": "execute_result"
    }
   ],
   "source": [
    "train.isnull().sum()"
   ]
  },
  {
   "cell_type": "code",
   "execution_count": 10,
   "metadata": {
    "collapsed": false
   },
   "outputs": [],
   "source": [
    "male_child = male[~male.Name.str.contains('Mr.')]\n",
    "male_adult = male[male.Name.str.contains('Mr.')]"
   ]
  },
  {
   "cell_type": "code",
   "execution_count": 11,
   "metadata": {
    "collapsed": false
   },
   "outputs": [
    {
     "name": "stderr",
     "output_type": "stream",
     "text": [
      "C:\\Users\\Comp\\Anaconda3\\lib\\site-packages\\pandas\\core\\generic.py:2701: SettingWithCopyWarning: \n",
      "A value is trying to be set on a copy of a slice from a DataFrame.\n",
      "Try using .loc[row_indexer,col_indexer] = value instead\n",
      "\n",
      "See the caveats in the documentation: http://pandas.pydata.org/pandas-docs/stable/indexing.html#indexing-view-versus-copy\n",
      "  self[name] = value\n"
     ]
    }
   ],
   "source": [
    "male_child.Age = male_child.Age.fillna(male_child.Age.mean())\n",
    "male_adult.Age = male_adult.Age.fillna(male_adult.Age.mean())\n",
    "male = male_adult + male_child"
   ]
  },
  {
   "cell_type": "code",
   "execution_count": 12,
   "metadata": {
    "collapsed": false
   },
   "outputs": [],
   "source": [
    "female_married = female[female.Name.str.contains('Mrs.')]\n",
    "female_unmarried = female[~female.Name.str.contains('Mrs.')]"
   ]
  },
  {
   "cell_type": "code",
   "execution_count": 13,
   "metadata": {
    "collapsed": false
   },
   "outputs": [
    {
     "name": "stderr",
     "output_type": "stream",
     "text": [
      "C:\\Users\\Comp\\Anaconda3\\lib\\site-packages\\pandas\\core\\generic.py:2701: SettingWithCopyWarning: \n",
      "A value is trying to be set on a copy of a slice from a DataFrame.\n",
      "Try using .loc[row_indexer,col_indexer] = value instead\n",
      "\n",
      "See the caveats in the documentation: http://pandas.pydata.org/pandas-docs/stable/indexing.html#indexing-view-versus-copy\n",
      "  self[name] = value\n"
     ]
    }
   ],
   "source": [
    "female_married.Age = female_married.Age.fillna(female_married.Age.mean())\n",
    "female_unmarried.Age = female_unmarried.Age.fillna(female_unmarried.Age.mean())"
   ]
  },
  {
   "cell_type": "code",
   "execution_count": 14,
   "metadata": {
    "collapsed": false
   },
   "outputs": [],
   "source": [
    "frames = [male_adult,male_child,female_married,female_unmarried]"
   ]
  },
  {
   "cell_type": "code",
   "execution_count": 15,
   "metadata": {
    "collapsed": false
   },
   "outputs": [],
   "source": [
    "frames1 = pd.concat(frames)"
   ]
  },
  {
   "cell_type": "code",
   "execution_count": 16,
   "metadata": {
    "collapsed": false
   },
   "outputs": [
    {
     "data": {
      "text/html": [
       "<div>\n",
       "<table border=\"1\" class=\"dataframe\">\n",
       "  <thead>\n",
       "    <tr style=\"text-align: right;\">\n",
       "      <th></th>\n",
       "      <th>Survived</th>\n",
       "      <th>Pclass</th>\n",
       "      <th>Sex</th>\n",
       "      <th>Age</th>\n",
       "      <th>SibSp</th>\n",
       "      <th>Parch</th>\n",
       "      <th>Fare</th>\n",
       "    </tr>\n",
       "  </thead>\n",
       "  <tbody>\n",
       "    <tr>\n",
       "      <th>Survived</th>\n",
       "      <td>1.000000</td>\n",
       "      <td>-0.338481</td>\n",
       "      <td>0.543351</td>\n",
       "      <td>-0.087157</td>\n",
       "      <td>-0.035322</td>\n",
       "      <td>0.081629</td>\n",
       "      <td>0.257307</td>\n",
       "    </tr>\n",
       "    <tr>\n",
       "      <th>Pclass</th>\n",
       "      <td>-0.338481</td>\n",
       "      <td>1.000000</td>\n",
       "      <td>-0.131900</td>\n",
       "      <td>-0.338059</td>\n",
       "      <td>0.083081</td>\n",
       "      <td>0.018443</td>\n",
       "      <td>-0.549500</td>\n",
       "    </tr>\n",
       "    <tr>\n",
       "      <th>Sex</th>\n",
       "      <td>0.543351</td>\n",
       "      <td>-0.131900</td>\n",
       "      <td>1.000000</td>\n",
       "      <td>-0.119585</td>\n",
       "      <td>0.114631</td>\n",
       "      <td>0.245489</td>\n",
       "      <td>0.182333</td>\n",
       "    </tr>\n",
       "    <tr>\n",
       "      <th>Age</th>\n",
       "      <td>-0.087157</td>\n",
       "      <td>-0.338059</td>\n",
       "      <td>-0.119585</td>\n",
       "      <td>1.000000</td>\n",
       "      <td>-0.256608</td>\n",
       "      <td>-0.192345</td>\n",
       "      <td>0.090901</td>\n",
       "    </tr>\n",
       "    <tr>\n",
       "      <th>SibSp</th>\n",
       "      <td>-0.035322</td>\n",
       "      <td>0.083081</td>\n",
       "      <td>0.114631</td>\n",
       "      <td>-0.256608</td>\n",
       "      <td>1.000000</td>\n",
       "      <td>0.414838</td>\n",
       "      <td>0.159651</td>\n",
       "    </tr>\n",
       "    <tr>\n",
       "      <th>Parch</th>\n",
       "      <td>0.081629</td>\n",
       "      <td>0.018443</td>\n",
       "      <td>0.245489</td>\n",
       "      <td>-0.192345</td>\n",
       "      <td>0.414838</td>\n",
       "      <td>1.000000</td>\n",
       "      <td>0.216225</td>\n",
       "    </tr>\n",
       "    <tr>\n",
       "      <th>Fare</th>\n",
       "      <td>0.257307</td>\n",
       "      <td>-0.549500</td>\n",
       "      <td>0.182333</td>\n",
       "      <td>0.090901</td>\n",
       "      <td>0.159651</td>\n",
       "      <td>0.216225</td>\n",
       "      <td>1.000000</td>\n",
       "    </tr>\n",
       "  </tbody>\n",
       "</table>\n",
       "</div>"
      ],
      "text/plain": [
       "          Survived    Pclass       Sex       Age     SibSp     Parch      Fare\n",
       "Survived  1.000000 -0.338481  0.543351 -0.087157 -0.035322  0.081629  0.257307\n",
       "Pclass   -0.338481  1.000000 -0.131900 -0.338059  0.083081  0.018443 -0.549500\n",
       "Sex       0.543351 -0.131900  1.000000 -0.119585  0.114631  0.245489  0.182333\n",
       "Age      -0.087157 -0.338059 -0.119585  1.000000 -0.256608 -0.192345  0.090901\n",
       "SibSp    -0.035322  0.083081  0.114631 -0.256608  1.000000  0.414838  0.159651\n",
       "Parch     0.081629  0.018443  0.245489 -0.192345  0.414838  1.000000  0.216225\n",
       "Fare      0.257307 -0.549500  0.182333  0.090901  0.159651  0.216225  1.000000"
      ]
     },
     "execution_count": 16,
     "metadata": {},
     "output_type": "execute_result"
    }
   ],
   "source": [
    "frames1.corr(method='pearson')"
   ]
  },
  {
   "cell_type": "code",
   "execution_count": 17,
   "metadata": {
    "collapsed": false
   },
   "outputs": [],
   "source": [
    "X = frames1.ix[:,1:]\n",
    "Y = frames1.ix[:,0]"
   ]
  },
  {
   "cell_type": "code",
   "execution_count": 18,
   "metadata": {
    "collapsed": false
   },
   "outputs": [],
   "source": [
    "X_train, X_test, Y_train, Y_test = train_test_split(X,Y,test_size=0.2)"
   ]
  },
  {
   "cell_type": "code",
   "execution_count": 19,
   "metadata": {
    "collapsed": false
   },
   "outputs": [],
   "source": [
    "del X_train['Name']\n",
    "del X_test['Name']\n",
    "del X_train['Embarked']\n",
    "del X_test['Embarked']"
   ]
  },
  {
   "cell_type": "code",
   "execution_count": 20,
   "metadata": {
    "collapsed": false
   },
   "outputs": [
    {
     "name": "stdout",
     "output_type": "stream",
     "text": [
      "Model Accuracy: 78.77 %\n"
     ]
    }
   ],
   "source": [
    "logreg = LogisticRegression()\n",
    "y_pred_logreg = logreg.fit(X_train, Y_train).predict(X_test)\n",
    "print (\"Model Accuracy:\",round((metrics.accuracy_score(Y_test, y_pred_logreg)*100),2),\"%\")"
   ]
  },
  {
   "cell_type": "code",
   "execution_count": 21,
   "metadata": {
    "collapsed": false
   },
   "outputs": [
    {
     "name": "stdout",
     "output_type": "stream",
     "text": [
      "Model Accuracy: 83.8 %\n"
     ]
    }
   ],
   "source": [
    "randomforrest = RandomForestClassifier(n_estimators=30)\n",
    "y_pred_rand = randomforrest.fit(X_train,Y_train).predict(X_test)\n",
    "print (\"Model Accuracy:\",round((metrics.accuracy_score(Y_test, y_pred_rand)*100),2),\"%\")"
   ]
  },
  {
   "cell_type": "code",
   "execution_count": 22,
   "metadata": {
    "collapsed": false
   },
   "outputs": [
    {
     "name": "stdout",
     "output_type": "stream",
     "text": [
      "Model Accuracy: 78.21 %\n"
     ]
    }
   ],
   "source": [
    "svc_class = SVC(kernel='linear')\n",
    "y_pred_svm = svc_class.fit(X_train,Y_train).predict(X_test)\n",
    "print (\"Model Accuracy:\",round((metrics.accuracy_score(Y_test, y_pred_svm)*100),2),\"%\")"
   ]
  },
  {
   "cell_type": "code",
   "execution_count": 23,
   "metadata": {
    "collapsed": false
   },
   "outputs": [
    {
     "name": "stdout",
     "output_type": "stream",
     "text": [
      "Model Accuracy: 63.69 %\n"
     ]
    }
   ],
   "source": [
    "linear_svc = LinearSVC()\n",
    "y_pred_lsvc = linear_svc.fit(X_train,Y_train).predict(X_test)\n",
    "print (\"Model Accuracy:\",round((metrics.accuracy_score(Y_test, y_pred_lsvc)*100),2),\"%\")"
   ]
  },
  {
   "cell_type": "code",
   "execution_count": 24,
   "metadata": {
    "collapsed": false
   },
   "outputs": [
    {
     "name": "stdout",
     "output_type": "stream",
     "text": [
      "Model Accuracy: 77.09 %\n"
     ]
    }
   ],
   "source": [
    "nb = GaussianNB()\n",
    "y_pred_nb = nb.fit(X_train,Y_train).predict(X_test)\n",
    "print (\"Model Accuracy:\",round((metrics.accuracy_score(Y_test, y_pred_nb)*100),2),\"%\")"
   ]
  },
  {
   "cell_type": "code",
   "execution_count": 25,
   "metadata": {
    "collapsed": false
   },
   "outputs": [
    {
     "name": "stdout",
     "output_type": "stream",
     "text": [
      "Model Accuracy: 72.63 %\n"
     ]
    }
   ],
   "source": [
    "neigh = KNeighborsClassifier()\n",
    "y_pred_neigh = neigh.fit(X_train,Y_train).predict(X_test)\n",
    "print (\"Model Accuracy:\",round((metrics.accuracy_score(Y_test, y_pred_neigh)*100),2),\"%\")"
   ]
  },
  {
   "cell_type": "code",
   "execution_count": 26,
   "metadata": {
    "collapsed": false
   },
   "outputs": [
    {
     "name": "stdout",
     "output_type": "stream",
     "text": [
      "Model Accuracy: 68.16 %\n"
     ]
    }
   ],
   "source": [
    "neural = nk.MLPClassifier(max_iter=1000, hidden_layer_sizes=(50))\n",
    "y_pred_neural = neural.fit(X_train,Y_train).predict(X_test)\n",
    "print (\"Model Accuracy:\",round((metrics.accuracy_score(Y_test, y_pred_neural)*100),2),\"%\")"
   ]
  },
  {
   "cell_type": "code",
   "execution_count": 27,
   "metadata": {
    "collapsed": false
   },
   "outputs": [
    {
     "name": "stdout",
     "output_type": "stream",
     "text": [
      "Model Accuracy: 81.01 %\n"
     ]
    }
   ],
   "source": [
    "from sklearn.ensemble import GradientBoostingClassifier\n",
    "gb = GradientBoostingClassifier()\n",
    "y_pred_gb = gb.fit(X_train,Y_train).predict(X_test)\n",
    "print (\"Model Accuracy:\",round((metrics.accuracy_score(Y_test, y_pred_gb)*100),2),\"%\")"
   ]
  },
  {
   "cell_type": "code",
   "execution_count": 28,
   "metadata": {
    "collapsed": false
   },
   "outputs": [
    {
     "name": "stdout",
     "output_type": "stream",
     "text": [
      "\tLogistic classification report:\n",
      "              precision    recall  f1-score   support\n",
      "\n",
      "Not Survived       0.81      0.86      0.83       112\n",
      "    Survived       0.74      0.67      0.70        67\n",
      "\n",
      " avg / total       0.79      0.79      0.79       179\n",
      "\n",
      "\n",
      "\n",
      "\tRandom Forrest classification report:\n",
      "              precision    recall  f1-score   support\n",
      "\n",
      "Not Survived       0.85      0.89      0.87       112\n",
      "    Survived       0.81      0.75      0.78        67\n",
      "\n",
      " avg / total       0.84      0.84      0.84       179\n",
      "\n",
      "\n",
      "\n",
      "\tSupport Vector Machine classification report:\n",
      "              precision    recall  f1-score   support\n",
      "\n",
      "Not Survived       0.81      0.86      0.83       112\n",
      "    Survived       0.73      0.66      0.69        67\n",
      "\n",
      " avg / total       0.78      0.78      0.78       179\n",
      "\n",
      "\n",
      "\n",
      "\tLinear Support Vector Classifier classification report:\n",
      "              precision    recall  f1-score   support\n",
      "\n",
      "Not Survived       0.63      0.99      0.77       112\n",
      "    Survived       0.75      0.04      0.08        67\n",
      "\n",
      " avg / total       0.68      0.64      0.52       179\n",
      "\n",
      "\n",
      "\n",
      "\tGradient Boosted classification report:\n",
      "              precision    recall  f1-score   support\n",
      "\n",
      "Not Survived       0.83      0.88      0.85       112\n",
      "    Survived       0.77      0.70      0.73        67\n",
      "\n",
      " avg / total       0.81      0.81      0.81       179\n",
      "\n",
      "\n",
      "\n",
      "\tNaive Bayes classification report:\n",
      "              precision    recall  f1-score   support\n",
      "\n",
      "Not Survived       0.81      0.82      0.82       112\n",
      "    Survived       0.70      0.69      0.69        67\n",
      "\n",
      " avg / total       0.77      0.77      0.77       179\n",
      "\n",
      "\n",
      "\n",
      "\tK-nearest Neighbour Classifier classification report:\n",
      "              precision    recall  f1-score   support\n",
      "\n",
      "Not Survived       0.78      0.78      0.78       112\n",
      "    Survived       0.63      0.64      0.64        67\n",
      "\n",
      " avg / total       0.73      0.73      0.73       179\n",
      "\n",
      "\n",
      "\n",
      "\tMulti Layer Perception Neural network classification report:\n",
      "              precision    recall  f1-score   support\n",
      "\n",
      "Not Survived       0.68      0.95      0.79       112\n",
      "    Survived       0.73      0.24      0.36        67\n",
      "\n",
      " avg / total       0.69      0.68      0.63       179\n",
      "\n",
      "\n"
     ]
    }
   ],
   "source": [
    "print (\"\\tLogistic classification report:\\n%s\\n\" %\n",
    "       metrics.classification_report(Y_test,y_pred_logreg,target_names=[\"Not Survived\", \"Survived\"]))\n",
    "\n",
    "print (\"\\n\\tRandom Forrest classification report:\\n%s\\n\" %\n",
    "       metrics.classification_report(Y_test,y_pred_rand,target_names=[\"Not Survived\", \"Survived\"]))\n",
    "\n",
    "print (\"\\n\\tSupport Vector Machine classification report:\\n%s\\n\" %\n",
    "       metrics.classification_report(Y_test,y_pred_svm,target_names=[\"Not Survived\", \"Survived\"]))\n",
    "\n",
    "print (\"\\n\\tLinear Support Vector Classifier classification report:\\n%s\\n\" %\n",
    "       metrics.classification_report(Y_test,y_pred_lsvc,target_names=[\"Not Survived\", \"Survived\"]))\n",
    "\n",
    "print (\"\\n\\tGradient Boosted classification report:\\n%s\\n\" %\n",
    "       metrics.classification_report(Y_test,y_pred_gb,target_names=[\"Not Survived\", \"Survived\"]))\n",
    "\n",
    "print (\"\\n\\tNaive Bayes classification report:\\n%s\\n\" %\n",
    "       metrics.classification_report(Y_test,y_pred_nb,target_names=[\"Not Survived\", \"Survived\"]))\n",
    "\n",
    "print (\"\\n\\tK-nearest Neighbour Classifier classification report:\\n%s\\n\" %\n",
    "       metrics.classification_report(Y_test,y_pred_neigh,target_names=[\"Not Survived\", \"Survived\"]))\n",
    "\n",
    "print (\"\\n\\tMulti Layer Perception Neural network classification report:\\n%s\\n\" %\n",
    "       metrics.classification_report(Y_test,y_pred_neural,target_names=[\"Not Survived\", \"Survived\"]))"
   ]
  }
 ],
 "metadata": {
  "anaconda-cloud": {},
  "kernelspec": {
   "display_name": "Python [conda root]",
   "language": "python",
   "name": "conda-root-py"
  },
  "language_info": {
   "codemirror_mode": {
    "name": "ipython",
    "version": 3
   },
   "file_extension": ".py",
   "mimetype": "text/x-python",
   "name": "python",
   "nbconvert_exporter": "python",
   "pygments_lexer": "ipython3",
   "version": "3.5.2"
  }
 },
 "nbformat": 4,
 "nbformat_minor": 1
}
