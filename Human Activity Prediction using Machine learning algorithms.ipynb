{
 "cells": [
  {
   "cell_type": "code",
   "execution_count": 1,
   "metadata": {
    "collapsed": true
   },
   "outputs": [],
   "source": [
    "import pandas as pd\n",
    "import numpy as np\n",
    "import matplotlib\n",
    "import matplotlib.pyplot as plt\n",
    "import os\n",
    "\n",
    "from sklearn.neighbors import KNeighborsClassifier\n",
    "from sklearn.naive_bayes import *\n",
    "from sklearn import metrics\n",
    "from sklearn import ensemble\n",
    "import sklearn.neural_network as neural\n",
    "\n",
    "%matplotlib inline"
   ]
  },
  {
   "cell_type": "code",
   "execution_count": 2,
   "metadata": {
    "collapsed": false
   },
   "outputs": [
    {
     "name": "stdout",
     "output_type": "stream",
     "text": [
      "Total number of features in dataset: 561\n",
      "Total instances in training dataset: 4252\n",
      "Total instances in test dataset: 1492\n"
     ]
    }
   ],
   "source": [
    "labels = pd.read_table('./data/Human activity/activity_labels.txt', sep=' ', header=None, names=('ID','Activity'))\n",
    "labels2 = labels.Activity\n",
    "labels2 = np.array(labels2)\n",
    "feature_names = pd.read_table('./data/Human activity/features.txt', sep=' ', header=None, names=('ID', 'Sensor'))\n",
    "X_train = pd.read_table('./data/Human activity/final_X_train.txt', sep=',', header=None)\n",
    "X_test = pd.read_table('./data/Human activity/final_X_test.txt', sep=',', header=None)\n",
    "Y_train = pd.read_table('./data/Human activity/final_y_train.txt', sep=',', header=None)\n",
    "Y_test = pd.read_table('./data/Human activity/final_y_test.txt', sep=',', header=None)\n",
    "\n",
    "print (\"Total number of features in dataset:\", X_train.shape[1])\n",
    "print (\"Total instances in training dataset:\", X_train.shape[0])\n",
    "print (\"Total instances in test dataset:\", X_test.shape[0])"
   ]
  },
  {
   "cell_type": "code",
   "execution_count": 3,
   "metadata": {
    "collapsed": false
   },
   "outputs": [
    {
     "name": "stderr",
     "output_type": "stream",
     "text": [
      "C:\\Users\\Comp\\Anaconda3\\lib\\site-packages\\ipykernel\\__main__.py:2: DataConversionWarning: A column-vector y was passed when a 1d array was expected. Please change the shape of y to (n_samples,), for example using ravel().\n",
      "  from ipykernel import kernelapp as app\n"
     ]
    },
    {
     "name": "stdout",
     "output_type": "stream",
     "text": [
      "Model Accuracy: 88.81 %\n"
     ]
    }
   ],
   "source": [
    "randomforrest = ensemble.RandomForestClassifier(n_estimators=500)\n",
    "y_pred_rand = randomforrest.fit(X_train,Y_train).predict(X_test)\n",
    "print (\"Model Accuracy:\" ,round(metrics.accuracy_score(Y_test,y_pred_rand)*100, 2),\"%\")"
   ]
  },
  {
   "cell_type": "code",
   "execution_count": 8,
   "metadata": {
    "collapsed": false
   },
   "outputs": [
    {
     "name": "stderr",
     "output_type": "stream",
     "text": [
      "C:\\Users\\Comp\\Anaconda3\\lib\\site-packages\\sklearn\\neural_network\\multilayer_perceptron.py:904: DataConversionWarning: A column-vector y was passed when a 1d array was expected. Please change the shape of y to (n_samples, ), for example using ravel().\n",
      "  y = column_or_1d(y, warn=True)\n"
     ]
    },
    {
     "name": "stdout",
     "output_type": "stream",
     "text": [
      "Model Accuracy: 84.65 %\n"
     ]
    }
   ],
   "source": [
    "neuralnet = neural.MLPClassifier(hidden_layer_sizes=(200,200),max_iter=5000) #2 layer neural network with 200 neurons in each layer\n",
    "y_pred_n = neuralnet.fit(X_train, Y_train).predict(X_test)\n",
    "print (\"Model Accuracy:\" ,round(metrics.accuracy_score(Y_test,y_pred_n)*100, 2),\"%\")"
   ]
  },
  {
   "cell_type": "code",
   "execution_count": 5,
   "metadata": {
    "collapsed": false
   },
   "outputs": [
    {
     "name": "stderr",
     "output_type": "stream",
     "text": [
      "C:\\Users\\Comp\\Anaconda3\\lib\\site-packages\\ipykernel\\__main__.py:2: DataConversionWarning: A column-vector y was passed when a 1d array was expected. Please change the shape of y to (n_samples, ), for example using ravel().\n",
      "  from ipykernel import kernelapp as app\n"
     ]
    },
    {
     "name": "stdout",
     "output_type": "stream",
     "text": [
      "Model Accuracy: 80.29 %\n"
     ]
    }
   ],
   "source": [
    "neigh = KNeighborsClassifier(n_neighbors=10,p=1,weights='distance')\n",
    "y_pred_neigh = neigh.fit(X_train, Y_train).predict(X_test)\n",
    "print (\"Model Accuracy:\" ,round(metrics.accuracy_score(Y_test,y_pred_neigh)*100, 2),\"%\")"
   ]
  },
  {
   "cell_type": "code",
   "execution_count": 6,
   "metadata": {
    "collapsed": false
   },
   "outputs": [
    {
     "name": "stderr",
     "output_type": "stream",
     "text": [
      "C:\\Users\\Comp\\Anaconda3\\lib\\site-packages\\sklearn\\utils\\validation.py:526: DataConversionWarning: A column-vector y was passed when a 1d array was expected. Please change the shape of y to (n_samples, ), for example using ravel().\n",
      "  y = column_or_1d(y, warn=True)\n"
     ]
    },
    {
     "name": "stdout",
     "output_type": "stream",
     "text": [
      "Model Accuracy: 61.33 %\n"
     ]
    }
   ],
   "source": [
    "from sklearn import naive_bayes\n",
    "nb = GaussianNB()\n",
    "y_pred_nb = nb.fit(X_train, Y_train).predict(X_test)\n",
    "print (\"Model Accuracy:\" ,round(metrics.accuracy_score(Y_test,y_pred_nb)*100, 2),\"%\")"
   ]
  },
  {
   "cell_type": "code",
   "execution_count": 9,
   "metadata": {
    "collapsed": false
   },
   "outputs": [
    {
     "name": "stdout",
     "output_type": "stream",
     "text": [
      "\tRandom Forrest classification report:\n",
      "                    precision    recall  f1-score   support\n",
      "\n",
      "           WALKING       0.86      0.91      0.89       243\n",
      "  WALKING_UPSTAIRS       0.86      0.83      0.84       229\n",
      "WALKING_DOWNSTAIRS       0.91      0.85      0.88       239\n",
      "           SITTING       0.91      0.83      0.87       289\n",
      "          STANDING       0.82      0.94      0.88       254\n",
      "            LAYING       0.99      0.97      0.98       238\n",
      "\n",
      "       avg / total       0.89      0.89      0.89      1492\n",
      "\n",
      "\n",
      "\n",
      "\tMulti Layer Perception neural net classification report:\n",
      "                    precision    recall  f1-score   support\n",
      "\n",
      "           WALKING       0.93      0.79      0.86       243\n",
      "  WALKING_UPSTAIRS       0.77      0.88      0.82       229\n",
      "WALKING_DOWNSTAIRS       0.88      0.82      0.85       239\n",
      "           SITTING       0.75      0.92      0.82       289\n",
      "          STANDING       0.85      0.69      0.76       254\n",
      "            LAYING       0.97      0.98      0.98       238\n",
      "\n",
      "       avg / total       0.86      0.85      0.85      1492\n",
      "\n",
      "\n",
      "\n",
      "\tK nearest neighbour classification report:\n",
      "                    precision    recall  f1-score   support\n",
      "\n",
      "           WALKING       0.69      0.75      0.72       243\n",
      "  WALKING_UPSTAIRS       0.83      0.70      0.76       229\n",
      "WALKING_DOWNSTAIRS       0.75      0.75      0.75       239\n",
      "           SITTING       0.88      0.71      0.79       289\n",
      "          STANDING       0.74      0.93      0.82       254\n",
      "            LAYING       0.97      0.98      0.98       238\n",
      "\n",
      "       avg / total       0.81      0.80      0.80      1492\n",
      "\n",
      "\n",
      "\n",
      "\tNaive Bayes using GaussianNB Classification Report:\n",
      "                    precision    recall  f1-score   support\n",
      "\n",
      "           WALKING       0.77      0.60      0.68       243\n",
      "  WALKING_UPSTAIRS       0.48      0.72      0.57       229\n",
      "WALKING_DOWNSTAIRS       0.63      0.51      0.57       239\n",
      "           SITTING       0.53      0.40      0.46       289\n",
      "          STANDING       0.59      0.93      0.72       254\n",
      "            LAYING       0.88      0.53      0.66       238\n",
      "\n",
      "       avg / total       0.65      0.61      0.61      1492\n",
      "\n",
      "\n"
     ]
    }
   ],
   "source": [
    "print (\"\\tRandom Forrest classification report:\\n%s\\n\" %\n",
    "       metrics.classification_report(Y_test,y_pred_rand,target_names=labels2))\n",
    "\n",
    "print (\"\\n\\tMulti Layer Perception neural net classification report:\\n%s\\n\" %\n",
    "       metrics.classification_report(Y_test,y_pred_n,target_names=labels2))\n",
    "\n",
    "print (\"\\n\\tK nearest neighbour classification report:\\n%s\\n\" %\n",
    "       metrics.classification_report(Y_test,y_pred_neigh,target_names=labels2))\n",
    "\n",
    "print (\"\\n\\tNaive Bayes using GaussianNB Classification Report:\\n%s\\n\" %\n",
    "       metrics.classification_report(Y_test,y_pred_nb,target_names=labels2))"
   ]
  },
  {
   "cell_type": "code",
   "execution_count": null,
   "metadata": {
    "collapsed": true
   },
   "outputs": [],
   "source": []
  }
 ],
 "metadata": {
  "anaconda-cloud": {},
  "kernelspec": {
   "display_name": "Python [conda root]",
   "language": "python",
   "name": "conda-root-py"
  },
  "language_info": {
   "codemirror_mode": {
    "name": "ipython",
    "version": 3
   },
   "file_extension": ".py",
   "mimetype": "text/x-python",
   "name": "python",
   "nbconvert_exporter": "python",
   "pygments_lexer": "ipython3",
   "version": "3.5.2"
  }
 },
 "nbformat": 4,
 "nbformat_minor": 1
}
