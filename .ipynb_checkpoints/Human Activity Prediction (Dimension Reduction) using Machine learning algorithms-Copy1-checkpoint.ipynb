{
 "cells": [
  {
   "cell_type": "code",
   "execution_count": 1,
   "metadata": {
    "collapsed": true
   },
   "outputs": [],
   "source": [
    "import pandas as pd\n",
    "import numpy as np\n",
    "\n",
    "from sklearn import metrics\n",
    "from sklearn import ensemble\n",
    "import sklearn.neural_network as neural"
   ]
  },
  {
   "cell_type": "code",
   "execution_count": 2,
   "metadata": {
    "collapsed": false
   },
   "outputs": [],
   "source": [
    "labels = pd.read_table('./data/Human activity/activity_labels.txt', sep=' ', header=None, names=('ID','Activity'))\n",
    "feature_names = pd.read_table('./data/Human activity/features.txt', sep=' ', header=None, names=('ID', 'Sensor'))"
   ]
  },
  {
   "cell_type": "code",
   "execution_count": 3,
   "metadata": {
    "collapsed": false
   },
   "outputs": [
    {
     "name": "stdout",
     "output_type": "stream",
     "text": [
      "['tBodyAcc-mean()-X' 'tBodyAcc-mean()-Y' 'tBodyAcc-mean()-Z'\n",
      " 'tBodyAcc-std()-X' 'tBodyAcc-std()-Y' 'tBodyAcc-std()-Z'\n",
      " 'tBodyAcc-mad()-X' 'tBodyAcc-mad()-Y' 'tBodyAcc-mad()-Z'\n",
      " 'tBodyAcc-max()-X' 'tBodyAcc-max()-Y' 'tBodyAcc-max()-Z'\n",
      " 'tBodyAcc-min()-X' 'tBodyAcc-min()-Y' 'tBodyAcc-min()-Z' 'tBodyAcc-sma()'\n",
      " 'tBodyAcc-energy()-X' 'tBodyAcc-energy()-Y' 'tBodyAcc-energy()-Z'\n",
      " 'tBodyAcc-iqr()-X' 'tBodyAcc-iqr()-Y' 'tBodyAcc-iqr()-Z'\n",
      " 'tBodyAcc-entropy()-X' 'tBodyAcc-entropy()-Y' 'tBodyAcc-entropy()-Z'\n",
      " 'tBodyAcc-arCoeff()-X,1' 'tBodyAcc-arCoeff()-X,2' 'tBodyAcc-arCoeff()-X,3'\n",
      " 'tBodyAcc-arCoeff()-X,4' 'tBodyAcc-arCoeff()-Y,1' 'tBodyAcc-arCoeff()-Y,2'\n",
      " 'tBodyAcc-arCoeff()-Y,3' 'tBodyAcc-arCoeff()-Y,4' 'tBodyAcc-arCoeff()-Z,1'\n",
      " 'tBodyAcc-arCoeff()-Z,2' 'tBodyAcc-arCoeff()-Z,3' 'tBodyAcc-arCoeff()-Z,4'\n",
      " 'tBodyAcc-correlation()-X,Y' 'tBodyAcc-correlation()-X,Z'\n",
      " 'tBodyAcc-correlation()-Y,Z' 'tGravityAcc-mean()-X' 'tGravityAcc-mean()-Y'\n",
      " 'tGravityAcc-mean()-Z' 'tGravityAcc-std()-X' 'tGravityAcc-std()-Y'\n",
      " 'tGravityAcc-std()-Z' 'tGravityAcc-mad()-X' 'tGravityAcc-mad()-Y'\n",
      " 'tGravityAcc-mad()-Z' 'tGravityAcc-max()-X' 'tGravityAcc-max()-Y'\n",
      " 'tGravityAcc-max()-Z' 'tGravityAcc-min()-X' 'tGravityAcc-min()-Y'\n",
      " 'tGravityAcc-min()-Z' 'tGravityAcc-sma()' 'tGravityAcc-energy()-X'\n",
      " 'tGravityAcc-energy()-Y' 'tGravityAcc-energy()-Z' 'tGravityAcc-iqr()-X'\n",
      " 'tGravityAcc-iqr()-Y' 'tGravityAcc-iqr()-Z' 'tGravityAcc-entropy()-X'\n",
      " 'tGravityAcc-entropy()-Y' 'tGravityAcc-entropy()-Z'\n",
      " 'tGravityAcc-arCoeff()-X,1' 'tGravityAcc-arCoeff()-X,2'\n",
      " 'tGravityAcc-arCoeff()-X,3' 'tGravityAcc-arCoeff()-X,4'\n",
      " 'tGravityAcc-arCoeff()-Y,1' 'tGravityAcc-arCoeff()-Y,2'\n",
      " 'tGravityAcc-arCoeff()-Y,3' 'tGravityAcc-arCoeff()-Y,4'\n",
      " 'tGravityAcc-arCoeff()-Z,1' 'tGravityAcc-arCoeff()-Z,2'\n",
      " 'tGravityAcc-arCoeff()-Z,3' 'tGravityAcc-arCoeff()-Z,4'\n",
      " 'tGravityAcc-correlation()-X,Y' 'tGravityAcc-correlation()-X,Z'\n",
      " 'tGravityAcc-correlation()-Y,Z' 'tBodyAccJerk-mean()-X'\n",
      " 'tBodyAccJerk-mean()-Y' 'tBodyAccJerk-mean()-Z' 'tBodyAccJerk-std()-X'\n",
      " 'tBodyAccJerk-std()-Y' 'tBodyAccJerk-std()-Z' 'tBodyAccJerk-mad()-X'\n",
      " 'tBodyAccJerk-mad()-Y' 'tBodyAccJerk-mad()-Z' 'tBodyAccJerk-max()-X'\n",
      " 'tBodyAccJerk-max()-Y' 'tBodyAccJerk-max()-Z' 'tBodyAccJerk-min()-X'\n",
      " 'tBodyAccJerk-min()-Y' 'tBodyAccJerk-min()-Z' 'tBodyAccJerk-sma()'\n",
      " 'tBodyAccJerk-energy()-X' 'tBodyAccJerk-energy()-Y'\n",
      " 'tBodyAccJerk-energy()-Z' 'tBodyAccJerk-iqr()-X' 'tBodyAccJerk-iqr()-Y'\n",
      " 'tBodyAccJerk-iqr()-Z' 'tBodyAccJerk-entropy()-X'\n",
      " 'tBodyAccJerk-entropy()-Y' 'tBodyAccJerk-entropy()-Z'\n",
      " 'tBodyAccJerk-arCoeff()-X,1' 'tBodyAccJerk-arCoeff()-X,2'\n",
      " 'tBodyAccJerk-arCoeff()-X,3' 'tBodyAccJerk-arCoeff()-X,4'\n",
      " 'tBodyAccJerk-arCoeff()-Y,1' 'tBodyAccJerk-arCoeff()-Y,2'\n",
      " 'tBodyAccJerk-arCoeff()-Y,3' 'tBodyAccJerk-arCoeff()-Y,4'\n",
      " 'tBodyAccJerk-arCoeff()-Z,1' 'tBodyAccJerk-arCoeff()-Z,2'\n",
      " 'tBodyAccJerk-arCoeff()-Z,3' 'tBodyAccJerk-arCoeff()-Z,4'\n",
      " 'tBodyAccJerk-correlation()-X,Y' 'tBodyAccJerk-correlation()-X,Z'\n",
      " 'tBodyAccJerk-correlation()-Y,Z' 'tBodyGyro-mean()-X' 'tBodyGyro-mean()-Y'\n",
      " 'tBodyGyro-mean()-Z' 'tBodyGyro-std()-X' 'tBodyGyro-std()-Y'\n",
      " 'tBodyGyro-std()-Z' 'tBodyGyro-mad()-X' 'tBodyGyro-mad()-Y'\n",
      " 'tBodyGyro-mad()-Z' 'tBodyGyro-max()-X' 'tBodyGyro-max()-Y'\n",
      " 'tBodyGyro-max()-Z' 'tBodyGyro-min()-X' 'tBodyGyro-min()-Y'\n",
      " 'tBodyGyro-min()-Z' 'tBodyGyro-sma()' 'tBodyGyro-energy()-X'\n",
      " 'tBodyGyro-energy()-Y' 'tBodyGyro-energy()-Z' 'tBodyGyro-iqr()-X'\n",
      " 'tBodyGyro-iqr()-Y' 'tBodyGyro-iqr()-Z' 'tBodyGyro-entropy()-X'\n",
      " 'tBodyGyro-entropy()-Y' 'tBodyGyro-entropy()-Z' 'tBodyGyro-arCoeff()-X,1'\n",
      " 'tBodyGyro-arCoeff()-X,2' 'tBodyGyro-arCoeff()-X,3'\n",
      " 'tBodyGyro-arCoeff()-X,4' 'tBodyGyro-arCoeff()-Y,1'\n",
      " 'tBodyGyro-arCoeff()-Y,2' 'tBodyGyro-arCoeff()-Y,3'\n",
      " 'tBodyGyro-arCoeff()-Y,4' 'tBodyGyro-arCoeff()-Z,1'\n",
      " 'tBodyGyro-arCoeff()-Z,2' 'tBodyGyro-arCoeff()-Z,3'\n",
      " 'tBodyGyro-arCoeff()-Z,4' 'tBodyGyro-correlation()-X,Y'\n",
      " 'tBodyGyro-correlation()-X,Z' 'tBodyGyro-correlation()-Y,Z'\n",
      " 'tBodyGyroJerk-mean()-X' 'tBodyGyroJerk-mean()-Y' 'tBodyGyroJerk-mean()-Z'\n",
      " 'tBodyGyroJerk-std()-X' 'tBodyGyroJerk-std()-Y' 'tBodyGyroJerk-std()-Z'\n",
      " 'tBodyGyroJerk-mad()-X' 'tBodyGyroJerk-mad()-Y' 'tBodyGyroJerk-mad()-Z'\n",
      " 'tBodyGyroJerk-max()-X' 'tBodyGyroJerk-max()-Y' 'tBodyGyroJerk-max()-Z'\n",
      " 'tBodyGyroJerk-min()-X' 'tBodyGyroJerk-min()-Y' 'tBodyGyroJerk-min()-Z'\n",
      " 'tBodyGyroJerk-sma()' 'tBodyGyroJerk-energy()-X'\n",
      " 'tBodyGyroJerk-energy()-Y' 'tBodyGyroJerk-energy()-Z'\n",
      " 'tBodyGyroJerk-iqr()-X' 'tBodyGyroJerk-iqr()-Y' 'tBodyGyroJerk-iqr()-Z'\n",
      " 'tBodyGyroJerk-entropy()-X' 'tBodyGyroJerk-entropy()-Y'\n",
      " 'tBodyGyroJerk-entropy()-Z' 'tBodyGyroJerk-arCoeff()-X,1'\n",
      " 'tBodyGyroJerk-arCoeff()-X,2' 'tBodyGyroJerk-arCoeff()-X,3'\n",
      " 'tBodyGyroJerk-arCoeff()-X,4' 'tBodyGyroJerk-arCoeff()-Y,1'\n",
      " 'tBodyGyroJerk-arCoeff()-Y,2' 'tBodyGyroJerk-arCoeff()-Y,3'\n",
      " 'tBodyGyroJerk-arCoeff()-Y,4' 'tBodyGyroJerk-arCoeff()-Z,1'\n",
      " 'tBodyGyroJerk-arCoeff()-Z,2' 'tBodyGyroJerk-arCoeff()-Z,3'\n",
      " 'tBodyGyroJerk-arCoeff()-Z,4' 'tBodyGyroJerk-correlation()-X,Y'\n",
      " 'tBodyGyroJerk-correlation()-X,Z' 'tBodyGyroJerk-correlation()-Y,Z'\n",
      " 'tBodyAccMag-mean()' 'tBodyAccMag-std()' 'tBodyAccMag-mad()'\n",
      " 'tBodyAccMag-max()' 'tBodyAccMag-min()' 'tBodyAccMag-sma()'\n",
      " 'tBodyAccMag-energy()' 'tBodyAccMag-iqr()' 'tBodyAccMag-entropy()'\n",
      " 'tBodyAccMag-arCoeff()1' 'tBodyAccMag-arCoeff()2' 'tBodyAccMag-arCoeff()3'\n",
      " 'tBodyAccMag-arCoeff()4' 'tGravityAccMag-mean()' 'tGravityAccMag-std()'\n",
      " 'tGravityAccMag-mad()' 'tGravityAccMag-max()' 'tGravityAccMag-min()'\n",
      " 'tGravityAccMag-sma()' 'tGravityAccMag-energy()' 'tGravityAccMag-iqr()'\n",
      " 'tGravityAccMag-entropy()' 'tGravityAccMag-arCoeff()1'\n",
      " 'tGravityAccMag-arCoeff()2' 'tGravityAccMag-arCoeff()3'\n",
      " 'tGravityAccMag-arCoeff()4' 'tBodyAccJerkMag-mean()'\n",
      " 'tBodyAccJerkMag-std()' 'tBodyAccJerkMag-mad()' 'tBodyAccJerkMag-max()'\n",
      " 'tBodyAccJerkMag-min()' 'tBodyAccJerkMag-sma()' 'tBodyAccJerkMag-energy()'\n",
      " 'tBodyAccJerkMag-iqr()' 'tBodyAccJerkMag-entropy()'\n",
      " 'tBodyAccJerkMag-arCoeff()1' 'tBodyAccJerkMag-arCoeff()2'\n",
      " 'tBodyAccJerkMag-arCoeff()3' 'tBodyAccJerkMag-arCoeff()4'\n",
      " 'tBodyGyroMag-mean()' 'tBodyGyroMag-std()' 'tBodyGyroMag-mad()'\n",
      " 'tBodyGyroMag-max()' 'tBodyGyroMag-min()' 'tBodyGyroMag-sma()'\n",
      " 'tBodyGyroMag-energy()' 'tBodyGyroMag-iqr()' 'tBodyGyroMag-entropy()'\n",
      " 'tBodyGyroMag-arCoeff()1' 'tBodyGyroMag-arCoeff()2'\n",
      " 'tBodyGyroMag-arCoeff()3' 'tBodyGyroMag-arCoeff()4'\n",
      " 'tBodyGyroJerkMag-mean()' 'tBodyGyroJerkMag-std()'\n",
      " 'tBodyGyroJerkMag-mad()' 'tBodyGyroJerkMag-max()' 'tBodyGyroJerkMag-min()'\n",
      " 'tBodyGyroJerkMag-sma()' 'tBodyGyroJerkMag-energy()'\n",
      " 'tBodyGyroJerkMag-iqr()' 'tBodyGyroJerkMag-entropy()'\n",
      " 'tBodyGyroJerkMag-arCoeff()1' 'tBodyGyroJerkMag-arCoeff()2'\n",
      " 'tBodyGyroJerkMag-arCoeff()3' 'tBodyGyroJerkMag-arCoeff()4'\n",
      " 'fBodyAcc-mean()-X' 'fBodyAcc-mean()-Y' 'fBodyAcc-mean()-Z'\n",
      " 'fBodyAcc-std()-X' 'fBodyAcc-std()-Y' 'fBodyAcc-std()-Z'\n",
      " 'fBodyAcc-mad()-X' 'fBodyAcc-mad()-Y' 'fBodyAcc-mad()-Z'\n",
      " 'fBodyAcc-max()-X' 'fBodyAcc-max()-Y' 'fBodyAcc-max()-Z'\n",
      " 'fBodyAcc-min()-X' 'fBodyAcc-min()-Y' 'fBodyAcc-min()-Z' 'fBodyAcc-sma()'\n",
      " 'fBodyAcc-energy()-X' 'fBodyAcc-energy()-Y' 'fBodyAcc-energy()-Z'\n",
      " 'fBodyAcc-iqr()-X' 'fBodyAcc-iqr()-Y' 'fBodyAcc-iqr()-Z'\n",
      " 'fBodyAcc-entropy()-X' 'fBodyAcc-entropy()-Y' 'fBodyAcc-entropy()-Z'\n",
      " 'fBodyAcc-maxInds-X' 'fBodyAcc-maxInds-Y' 'fBodyAcc-maxInds-Z'\n",
      " 'fBodyAcc-meanFreq()-X' 'fBodyAcc-meanFreq()-Y' 'fBodyAcc-meanFreq()-Z'\n",
      " 'fBodyAcc-skewness()-X' 'fBodyAcc-kurtosis()-X' 'fBodyAcc-skewness()-Y'\n",
      " 'fBodyAcc-kurtosis()-Y' 'fBodyAcc-skewness()-Z' 'fBodyAcc-kurtosis()-Z'\n",
      " 'fBodyAcc-bandsEnergy()-1,8' 'fBodyAcc-bandsEnergy()-9,16'\n",
      " 'fBodyAcc-bandsEnergy()-17,24' 'fBodyAcc-bandsEnergy()-25,32'\n",
      " 'fBodyAcc-bandsEnergy()-33,40' 'fBodyAcc-bandsEnergy()-41,48'\n",
      " 'fBodyAcc-bandsEnergy()-49,56' 'fBodyAcc-bandsEnergy()-57,64'\n",
      " 'fBodyAcc-bandsEnergy()-1,16' 'fBodyAcc-bandsEnergy()-17,32'\n",
      " 'fBodyAcc-bandsEnergy()-33,48' 'fBodyAcc-bandsEnergy()-49,64'\n",
      " 'fBodyAcc-bandsEnergy()-1,24' 'fBodyAcc-bandsEnergy()-25,48'\n",
      " 'fBodyAcc-bandsEnergy()-1,8' 'fBodyAcc-bandsEnergy()-9,16'\n",
      " 'fBodyAcc-bandsEnergy()-17,24' 'fBodyAcc-bandsEnergy()-25,32'\n",
      " 'fBodyAcc-bandsEnergy()-33,40' 'fBodyAcc-bandsEnergy()-41,48'\n",
      " 'fBodyAcc-bandsEnergy()-49,56' 'fBodyAcc-bandsEnergy()-57,64'\n",
      " 'fBodyAcc-bandsEnergy()-1,16' 'fBodyAcc-bandsEnergy()-17,32'\n",
      " 'fBodyAcc-bandsEnergy()-33,48' 'fBodyAcc-bandsEnergy()-49,64'\n",
      " 'fBodyAcc-bandsEnergy()-1,24' 'fBodyAcc-bandsEnergy()-25,48'\n",
      " 'fBodyAcc-bandsEnergy()-1,8' 'fBodyAcc-bandsEnergy()-9,16'\n",
      " 'fBodyAcc-bandsEnergy()-17,24' 'fBodyAcc-bandsEnergy()-25,32'\n",
      " 'fBodyAcc-bandsEnergy()-33,40' 'fBodyAcc-bandsEnergy()-41,48'\n",
      " 'fBodyAcc-bandsEnergy()-49,56' 'fBodyAcc-bandsEnergy()-57,64'\n",
      " 'fBodyAcc-bandsEnergy()-1,16' 'fBodyAcc-bandsEnergy()-17,32'\n",
      " 'fBodyAcc-bandsEnergy()-33,48' 'fBodyAcc-bandsEnergy()-49,64'\n",
      " 'fBodyAcc-bandsEnergy()-1,24' 'fBodyAcc-bandsEnergy()-25,48'\n",
      " 'fBodyAccJerk-mean()-X' 'fBodyAccJerk-mean()-Y' 'fBodyAccJerk-mean()-Z'\n",
      " 'fBodyAccJerk-std()-X' 'fBodyAccJerk-std()-Y' 'fBodyAccJerk-std()-Z'\n",
      " 'fBodyAccJerk-mad()-X' 'fBodyAccJerk-mad()-Y' 'fBodyAccJerk-mad()-Z'\n",
      " 'fBodyAccJerk-max()-X' 'fBodyAccJerk-max()-Y' 'fBodyAccJerk-max()-Z'\n",
      " 'fBodyAccJerk-min()-X' 'fBodyAccJerk-min()-Y' 'fBodyAccJerk-min()-Z'\n",
      " 'fBodyAccJerk-sma()' 'fBodyAccJerk-energy()-X' 'fBodyAccJerk-energy()-Y'\n",
      " 'fBodyAccJerk-energy()-Z' 'fBodyAccJerk-iqr()-X' 'fBodyAccJerk-iqr()-Y'\n",
      " 'fBodyAccJerk-iqr()-Z' 'fBodyAccJerk-entropy()-X'\n",
      " 'fBodyAccJerk-entropy()-Y' 'fBodyAccJerk-entropy()-Z'\n",
      " 'fBodyAccJerk-maxInds-X' 'fBodyAccJerk-maxInds-Y' 'fBodyAccJerk-maxInds-Z'\n",
      " 'fBodyAccJerk-meanFreq()-X' 'fBodyAccJerk-meanFreq()-Y'\n",
      " 'fBodyAccJerk-meanFreq()-Z' 'fBodyAccJerk-skewness()-X'\n",
      " 'fBodyAccJerk-kurtosis()-X' 'fBodyAccJerk-skewness()-Y'\n",
      " 'fBodyAccJerk-kurtosis()-Y' 'fBodyAccJerk-skewness()-Z'\n",
      " 'fBodyAccJerk-kurtosis()-Z' 'fBodyAccJerk-bandsEnergy()-1,8'\n",
      " 'fBodyAccJerk-bandsEnergy()-9,16' 'fBodyAccJerk-bandsEnergy()-17,24'\n",
      " 'fBodyAccJerk-bandsEnergy()-25,32' 'fBodyAccJerk-bandsEnergy()-33,40'\n",
      " 'fBodyAccJerk-bandsEnergy()-41,48' 'fBodyAccJerk-bandsEnergy()-49,56'\n",
      " 'fBodyAccJerk-bandsEnergy()-57,64' 'fBodyAccJerk-bandsEnergy()-1,16'\n",
      " 'fBodyAccJerk-bandsEnergy()-17,32' 'fBodyAccJerk-bandsEnergy()-33,48'\n",
      " 'fBodyAccJerk-bandsEnergy()-49,64' 'fBodyAccJerk-bandsEnergy()-1,24'\n",
      " 'fBodyAccJerk-bandsEnergy()-25,48' 'fBodyAccJerk-bandsEnergy()-1,8'\n",
      " 'fBodyAccJerk-bandsEnergy()-9,16' 'fBodyAccJerk-bandsEnergy()-17,24'\n",
      " 'fBodyAccJerk-bandsEnergy()-25,32' 'fBodyAccJerk-bandsEnergy()-33,40'\n",
      " 'fBodyAccJerk-bandsEnergy()-41,48' 'fBodyAccJerk-bandsEnergy()-49,56'\n",
      " 'fBodyAccJerk-bandsEnergy()-57,64' 'fBodyAccJerk-bandsEnergy()-1,16'\n",
      " 'fBodyAccJerk-bandsEnergy()-17,32' 'fBodyAccJerk-bandsEnergy()-33,48'\n",
      " 'fBodyAccJerk-bandsEnergy()-49,64' 'fBodyAccJerk-bandsEnergy()-1,24'\n",
      " 'fBodyAccJerk-bandsEnergy()-25,48' 'fBodyAccJerk-bandsEnergy()-1,8'\n",
      " 'fBodyAccJerk-bandsEnergy()-9,16' 'fBodyAccJerk-bandsEnergy()-17,24'\n",
      " 'fBodyAccJerk-bandsEnergy()-25,32' 'fBodyAccJerk-bandsEnergy()-33,40'\n",
      " 'fBodyAccJerk-bandsEnergy()-41,48' 'fBodyAccJerk-bandsEnergy()-49,56'\n",
      " 'fBodyAccJerk-bandsEnergy()-57,64' 'fBodyAccJerk-bandsEnergy()-1,16'\n",
      " 'fBodyAccJerk-bandsEnergy()-17,32' 'fBodyAccJerk-bandsEnergy()-33,48'\n",
      " 'fBodyAccJerk-bandsEnergy()-49,64' 'fBodyAccJerk-bandsEnergy()-1,24'\n",
      " 'fBodyAccJerk-bandsEnergy()-25,48' 'fBodyGyro-mean()-X'\n",
      " 'fBodyGyro-mean()-Y' 'fBodyGyro-mean()-Z' 'fBodyGyro-std()-X'\n",
      " 'fBodyGyro-std()-Y' 'fBodyGyro-std()-Z' 'fBodyGyro-mad()-X'\n",
      " 'fBodyGyro-mad()-Y' 'fBodyGyro-mad()-Z' 'fBodyGyro-max()-X'\n",
      " 'fBodyGyro-max()-Y' 'fBodyGyro-max()-Z' 'fBodyGyro-min()-X'\n",
      " 'fBodyGyro-min()-Y' 'fBodyGyro-min()-Z' 'fBodyGyro-sma()'\n",
      " 'fBodyGyro-energy()-X' 'fBodyGyro-energy()-Y' 'fBodyGyro-energy()-Z'\n",
      " 'fBodyGyro-iqr()-X' 'fBodyGyro-iqr()-Y' 'fBodyGyro-iqr()-Z'\n",
      " 'fBodyGyro-entropy()-X' 'fBodyGyro-entropy()-Y' 'fBodyGyro-entropy()-Z'\n",
      " 'fBodyGyro-maxInds-X' 'fBodyGyro-maxInds-Y' 'fBodyGyro-maxInds-Z'\n",
      " 'fBodyGyro-meanFreq()-X' 'fBodyGyro-meanFreq()-Y' 'fBodyGyro-meanFreq()-Z'\n",
      " 'fBodyGyro-skewness()-X' 'fBodyGyro-kurtosis()-X' 'fBodyGyro-skewness()-Y'\n",
      " 'fBodyGyro-kurtosis()-Y' 'fBodyGyro-skewness()-Z' 'fBodyGyro-kurtosis()-Z'\n",
      " 'fBodyGyro-bandsEnergy()-1,8' 'fBodyGyro-bandsEnergy()-9,16'\n",
      " 'fBodyGyro-bandsEnergy()-17,24' 'fBodyGyro-bandsEnergy()-25,32'\n",
      " 'fBodyGyro-bandsEnergy()-33,40' 'fBodyGyro-bandsEnergy()-41,48'\n",
      " 'fBodyGyro-bandsEnergy()-49,56' 'fBodyGyro-bandsEnergy()-57,64'\n",
      " 'fBodyGyro-bandsEnergy()-1,16' 'fBodyGyro-bandsEnergy()-17,32'\n",
      " 'fBodyGyro-bandsEnergy()-33,48' 'fBodyGyro-bandsEnergy()-49,64'\n",
      " 'fBodyGyro-bandsEnergy()-1,24' 'fBodyGyro-bandsEnergy()-25,48'\n",
      " 'fBodyGyro-bandsEnergy()-1,8' 'fBodyGyro-bandsEnergy()-9,16'\n",
      " 'fBodyGyro-bandsEnergy()-17,24' 'fBodyGyro-bandsEnergy()-25,32'\n",
      " 'fBodyGyro-bandsEnergy()-33,40' 'fBodyGyro-bandsEnergy()-41,48'\n",
      " 'fBodyGyro-bandsEnergy()-49,56' 'fBodyGyro-bandsEnergy()-57,64'\n",
      " 'fBodyGyro-bandsEnergy()-1,16' 'fBodyGyro-bandsEnergy()-17,32'\n",
      " 'fBodyGyro-bandsEnergy()-33,48' 'fBodyGyro-bandsEnergy()-49,64'\n",
      " 'fBodyGyro-bandsEnergy()-1,24' 'fBodyGyro-bandsEnergy()-25,48'\n",
      " 'fBodyGyro-bandsEnergy()-1,8' 'fBodyGyro-bandsEnergy()-9,16'\n",
      " 'fBodyGyro-bandsEnergy()-17,24' 'fBodyGyro-bandsEnergy()-25,32'\n",
      " 'fBodyGyro-bandsEnergy()-33,40' 'fBodyGyro-bandsEnergy()-41,48'\n",
      " 'fBodyGyro-bandsEnergy()-49,56' 'fBodyGyro-bandsEnergy()-57,64'\n",
      " 'fBodyGyro-bandsEnergy()-1,16' 'fBodyGyro-bandsEnergy()-17,32'\n",
      " 'fBodyGyro-bandsEnergy()-33,48' 'fBodyGyro-bandsEnergy()-49,64'\n",
      " 'fBodyGyro-bandsEnergy()-1,24' 'fBodyGyro-bandsEnergy()-25,48'\n",
      " 'fBodyAccMag-mean()' 'fBodyAccMag-std()' 'fBodyAccMag-mad()'\n",
      " 'fBodyAccMag-max()' 'fBodyAccMag-min()' 'fBodyAccMag-sma()'\n",
      " 'fBodyAccMag-energy()' 'fBodyAccMag-iqr()' 'fBodyAccMag-entropy()'\n",
      " 'fBodyAccMag-maxInds' 'fBodyAccMag-meanFreq()' 'fBodyAccMag-skewness()'\n",
      " 'fBodyAccMag-kurtosis()' 'fBodyBodyAccJerkMag-mean()'\n",
      " 'fBodyBodyAccJerkMag-std()' 'fBodyBodyAccJerkMag-mad()'\n",
      " 'fBodyBodyAccJerkMag-max()' 'fBodyBodyAccJerkMag-min()'\n",
      " 'fBodyBodyAccJerkMag-sma()' 'fBodyBodyAccJerkMag-energy()'\n",
      " 'fBodyBodyAccJerkMag-iqr()' 'fBodyBodyAccJerkMag-entropy()'\n",
      " 'fBodyBodyAccJerkMag-maxInds' 'fBodyBodyAccJerkMag-meanFreq()'\n",
      " 'fBodyBodyAccJerkMag-skewness()' 'fBodyBodyAccJerkMag-kurtosis()'\n",
      " 'fBodyBodyGyroMag-mean()' 'fBodyBodyGyroMag-std()'\n",
      " 'fBodyBodyGyroMag-mad()' 'fBodyBodyGyroMag-max()' 'fBodyBodyGyroMag-min()'\n",
      " 'fBodyBodyGyroMag-sma()' 'fBodyBodyGyroMag-energy()'\n",
      " 'fBodyBodyGyroMag-iqr()' 'fBodyBodyGyroMag-entropy()'\n",
      " 'fBodyBodyGyroMag-maxInds' 'fBodyBodyGyroMag-meanFreq()'\n",
      " 'fBodyBodyGyroMag-skewness()' 'fBodyBodyGyroMag-kurtosis()'\n",
      " 'fBodyBodyGyroJerkMag-mean()' 'fBodyBodyGyroJerkMag-std()'\n",
      " 'fBodyBodyGyroJerkMag-mad()' 'fBodyBodyGyroJerkMag-max()'\n",
      " 'fBodyBodyGyroJerkMag-min()' 'fBodyBodyGyroJerkMag-sma()'\n",
      " 'fBodyBodyGyroJerkMag-energy()' 'fBodyBodyGyroJerkMag-iqr()'\n",
      " 'fBodyBodyGyroJerkMag-entropy()' 'fBodyBodyGyroJerkMag-maxInds'\n",
      " 'fBodyBodyGyroJerkMag-meanFreq()' 'fBodyBodyGyroJerkMag-skewness()'\n",
      " 'fBodyBodyGyroJerkMag-kurtosis()' 'angle(tBodyAccMean,gravity)'\n",
      " 'angle(tBodyAccJerkMean),gravityMean)' 'angle(tBodyGyroMean,gravityMean)'\n",
      " 'angle(tBodyGyroJerkMean,gravityMean)' 'angle(X,gravityMean)'\n",
      " 'angle(Y,gravityMean)' 'angle(Z,gravityMean)']\n",
      "['WALKING' 'WALKING_UPSTAIRS' 'WALKING_DOWNSTAIRS' 'SITTING' 'STANDING'\n",
      " 'LAYING']\n"
     ]
    }
   ],
   "source": [
    "feature_names = np.array(feature_names.Sensor)\n",
    "labels = np.array(labels.Activity)\n",
    "\n",
    "print(feature_names)\n",
    "print(labels)"
   ]
  },
  {
   "cell_type": "code",
   "execution_count": 4,
   "metadata": {
    "collapsed": false
   },
   "outputs": [
    {
     "name": "stdout",
     "output_type": "stream",
     "text": [
      "Total number of features in dataset: 561\n",
      "Total instances in training dataset: 4252\n",
      "Total instances in test dataset: 1492\n"
     ]
    }
   ],
   "source": [
    "X_train = pd.read_table('./data/Human activity/final_X_train.txt', sep=',', header=None)\n",
    "X_test = pd.read_table('./data/Human activity/final_X_test.txt', sep=',', header=None)\n",
    "Y_train = pd.read_table('./data/Human activity/final_y_train.txt', sep=',', header=None)\n",
    "Y_test = pd.read_table('./data/Human activity/final_y_test.txt', sep=',', header=None)\n",
    "\n",
    "print (\"Total number of features in dataset:\", X_train.shape[1])\n",
    "print (\"Total instances in training dataset:\", X_train.shape[0])\n",
    "print (\"Total instances in test dataset:\", X_test.shape[0])"
   ]
  },
  {
   "cell_type": "code",
   "execution_count": 7,
   "metadata": {
    "collapsed": false
   },
   "outputs": [],
   "source": [
    "X_train.columns = feature_names\n",
    "X_test.columns = feature_names"
   ]
  },
  {
   "cell_type": "code",
   "execution_count": 14,
   "metadata": {
    "collapsed": false
   },
   "outputs": [],
   "source": [
    "train = X_train\n",
    "train['activity'] = Y_train\n",
    "\n",
    "test = X_test\n",
    "test['activity'] = Y_test"
   ]
  },
  {
   "cell_type": "code",
   "execution_count": 15,
   "metadata": {
    "collapsed": false
   },
   "outputs": [],
   "source": [
    "evaluate = test.tail(100)"
   ]
  },
  {
   "cell_type": "code",
   "execution_count": null,
   "metadata": {
    "collapsed": true
   },
   "outputs": [],
   "source": []
  },
  {
   "cell_type": "code",
   "execution_count": 3,
   "metadata": {
    "collapsed": true
   },
   "outputs": [],
   "source": [
    "\n",
    "\n",
    "X_train = np.array(X_train)\n",
    "Y_train = np.array(Y_train)\n",
    "X_test = np.array(X_test)\n",
    "Y_test = np.array(Y_test)\n",
    "\n",
    "xtrain = pd.DataFrame(columns=feature_names,data=X_train)\n",
    "ytrain = pd.DataFrame(columns=['Activity'], data=Y_train)\n",
    "xtest = pd.DataFrame(columns=feature_names,data=X_test)\n",
    "ytest = pd.DataFrame(columns=['Activity'],data=Y_test)"
   ]
  },
  {
   "cell_type": "code",
   "execution_count": 35,
   "metadata": {
    "collapsed": false
   },
   "outputs": [],
   "source": [
    "from sklearn.decomposition import *"
   ]
  },
  {
   "cell_type": "code",
   "execution_count": 93,
   "metadata": {
    "collapsed": false
   },
   "outputs": [],
   "source": [
    "#Reducing number of features to 200\n",
    "\n",
    "FA = FactorAnalysis(n_components=200)\n",
    "FA.fit(xtrain)\n",
    "xtrain1 = FA.transform(xtrain)\n",
    "xtest1 = FA.transform(xtest)\n",
    "\n",
    "pca = PCA(n_components=200)\n",
    "pca.fit(xtrain)\n",
    "xtrain2 = pca.transform(xtrain)\n",
    "xtest2 = pca.transform(xtest)"
   ]
  },
  {
   "cell_type": "code",
   "execution_count": 102,
   "metadata": {
    "collapsed": false
   },
   "outputs": [],
   "source": [
    "#Reducing number of features to 150\n",
    "\n",
    "FA = FactorAnalysis(n_components=150)\n",
    "FA.fit(xtrain)\n",
    "xtrain3 = FA.transform(xtrain)\n",
    "xtest3 = FA.transform(xtest)\n",
    "\n",
    "pca = PCA(n_components=150)\n",
    "pca.fit(xtrain)\n",
    "xtrain4 = pca.transform(xtrain)\n",
    "xtest4 = pca.transform(xtest)"
   ]
  },
  {
   "cell_type": "code",
   "execution_count": 95,
   "metadata": {
    "collapsed": false
   },
   "outputs": [
    {
     "name": "stderr",
     "output_type": "stream",
     "text": [
      "C:\\Users\\Comp\\Anaconda3\\lib\\site-packages\\ipykernel\\__main__.py:2: DataConversionWarning: A column-vector y was passed when a 1d array was expected. Please change the shape of y to (n_samples,), for example using ravel().\n",
      "  from ipykernel import kernelapp as app\n"
     ]
    },
    {
     "data": {
      "text/plain": [
       "0.8036193029490617"
      ]
     },
     "execution_count": 95,
     "metadata": {},
     "output_type": "execute_result"
    }
   ],
   "source": [
    "#Random Forrest Classifier with features 200 and dimension reduction using PCA\n",
    "\n",
    "rand = ensemble.RandomForestClassifier(n_estimators=500)\n",
    "y_pred = rand.fit(xtrain2,ytrain).predict(xtest2)\n",
    "metrics.accuracy_score(ytest,y_pred)"
   ]
  },
  {
   "cell_type": "code",
   "execution_count": 96,
   "metadata": {
    "collapsed": false
   },
   "outputs": [
    {
     "name": "stderr",
     "output_type": "stream",
     "text": [
      "C:\\Users\\Comp\\Anaconda3\\lib\\site-packages\\ipykernel\\__main__.py:2: DataConversionWarning: A column-vector y was passed when a 1d array was expected. Please change the shape of y to (n_samples,), for example using ravel().\n",
      "  from ipykernel import kernelapp as app\n"
     ]
    },
    {
     "data": {
      "text/plain": [
       "0.83713136729222515"
      ]
     },
     "execution_count": 96,
     "metadata": {},
     "output_type": "execute_result"
    }
   ],
   "source": [
    "#Random Forrest Classifier with features 200 and dimension reduction using Factor Analysis\n",
    "\n",
    "rand = ensemble.RandomForestClassifier(n_estimators=500)\n",
    "y_pred1 = rand.fit(xtrain1,ytrain).predict(xtest1)\n",
    "metrics.accuracy_score(ytest,y_pred1)"
   ]
  },
  {
   "cell_type": "code",
   "execution_count": 100,
   "metadata": {
    "collapsed": false
   },
   "outputs": [
    {
     "name": "stderr",
     "output_type": "stream",
     "text": [
      "C:\\Users\\Comp\\Anaconda3\\lib\\site-packages\\sklearn\\neural_network\\multilayer_perceptron.py:904: DataConversionWarning: A column-vector y was passed when a 1d array was expected. Please change the shape of y to (n_samples, ), for example using ravel().\n",
      "  y = column_or_1d(y, warn=True)\n"
     ]
    },
    {
     "name": "stdout",
     "output_type": "stream",
     "text": [
      "0.857238605898\n"
     ]
    }
   ],
   "source": [
    "#MultiLayer Perception Classifier with 200 features and dimension reduction using Factor analysis\n",
    "\n",
    "nn = neural.MLPClassifier(hidden_layer_sizes=(70),max_iter=1000,solver='sgd')\n",
    "yprednn = nn.fit(xtrain1,ytrain).predict(xtest1)\n",
    "print (metrics.accuracy_score(ytest,yprednn))"
   ]
  },
  {
   "cell_type": "code",
   "execution_count": 99,
   "metadata": {
    "collapsed": false
   },
   "outputs": [
    {
     "name": "stderr",
     "output_type": "stream",
     "text": [
      "C:\\Users\\Comp\\Anaconda3\\lib\\site-packages\\sklearn\\neural_network\\multilayer_perceptron.py:904: DataConversionWarning: A column-vector y was passed when a 1d array was expected. Please change the shape of y to (n_samples, ), for example using ravel().\n",
      "  y = column_or_1d(y, warn=True)\n"
     ]
    },
    {
     "name": "stdout",
     "output_type": "stream",
     "text": [
      "0.859249329759\n"
     ]
    }
   ],
   "source": [
    "#MultiLayer Perception Classifier with 200 features and dimension reduction using PCA\n",
    "\n",
    "nn = neural.MLPClassifier(hidden_layer_sizes=(100),max_iter=1000,solver='sgd')\n",
    "yprednn1 = nn.fit(xtrain2,ytrain).predict(xtest2)\n",
    "print (metrics.accuracy_score(ytest,yprednn1))"
   ]
  },
  {
   "cell_type": "code",
   "execution_count": 108,
   "metadata": {
    "collapsed": false
   },
   "outputs": [
    {
     "name": "stderr",
     "output_type": "stream",
     "text": [
      "C:\\Users\\Comp\\Anaconda3\\lib\\site-packages\\ipykernel\\__main__.py:4: DataConversionWarning: A column-vector y was passed when a 1d array was expected. Please change the shape of y to (n_samples,), for example using ravel().\n"
     ]
    },
    {
     "data": {
      "text/plain": [
       "0.84651474530831095"
      ]
     },
     "execution_count": 108,
     "metadata": {},
     "output_type": "execute_result"
    }
   ],
   "source": [
    "#Random Forrest Classifier with features 150 and dimension reduction using Factor analysis\n",
    "\n",
    "rand = ensemble.RandomForestClassifier(n_estimators=500)\n",
    "y_pred2 = rand.fit(xtrain3,ytrain).predict(xtest3)\n",
    "metrics.accuracy_score(ytest,y_pred2)"
   ]
  },
  {
   "cell_type": "code",
   "execution_count": 109,
   "metadata": {
    "collapsed": false
   },
   "outputs": [
    {
     "name": "stderr",
     "output_type": "stream",
     "text": [
      "C:\\Users\\Comp\\Anaconda3\\lib\\site-packages\\ipykernel\\__main__.py:4: DataConversionWarning: A column-vector y was passed when a 1d array was expected. Please change the shape of y to (n_samples,), for example using ravel().\n"
     ]
    },
    {
     "data": {
      "text/plain": [
       "0.80294906166219837"
      ]
     },
     "execution_count": 109,
     "metadata": {},
     "output_type": "execute_result"
    }
   ],
   "source": [
    "#Random Forrest Classifier with features 150 and dimension reduction using PCA\n",
    "\n",
    "rand = ensemble.RandomForestClassifier(n_estimators=500)\n",
    "y_pred3 = rand.fit(xtrain4,ytrain).predict(xtest4)\n",
    "metrics.accuracy_score(ytest,y_pred3)"
   ]
  },
  {
   "cell_type": "code",
   "execution_count": 110,
   "metadata": {
    "collapsed": false
   },
   "outputs": [
    {
     "name": "stderr",
     "output_type": "stream",
     "text": [
      "C:\\Users\\Comp\\Anaconda3\\lib\\site-packages\\sklearn\\neural_network\\multilayer_perceptron.py:904: DataConversionWarning: A column-vector y was passed when a 1d array was expected. Please change the shape of y to (n_samples, ), for example using ravel().\n",
      "  y = column_or_1d(y, warn=True)\n"
     ]
    },
    {
     "name": "stdout",
     "output_type": "stream",
     "text": [
      "0.855898123324\n"
     ]
    }
   ],
   "source": [
    "#MultiLayer Perception Classifier with 150 features and dimension reduction using Factor Analysis\n",
    "\n",
    "nn = neural.MLPClassifier(hidden_layer_sizes=(100),max_iter=1000,solver='sgd')\n",
    "yprednn2 = nn.fit(xtrain3,ytrain).predict(xtest3)\n",
    "print (metrics.accuracy_score(ytest,yprednn2))"
   ]
  },
  {
   "cell_type": "code",
   "execution_count": 111,
   "metadata": {
    "collapsed": false
   },
   "outputs": [
    {
     "name": "stderr",
     "output_type": "stream",
     "text": [
      "C:\\Users\\Comp\\Anaconda3\\lib\\site-packages\\sklearn\\neural_network\\multilayer_perceptron.py:904: DataConversionWarning: A column-vector y was passed when a 1d array was expected. Please change the shape of y to (n_samples, ), for example using ravel().\n",
      "  y = column_or_1d(y, warn=True)\n"
     ]
    },
    {
     "name": "stdout",
     "output_type": "stream",
     "text": [
      "0.861930294906\n"
     ]
    },
    {
     "name": "stderr",
     "output_type": "stream",
     "text": [
      "C:\\Users\\Comp\\Anaconda3\\lib\\site-packages\\sklearn\\neural_network\\multilayer_perceptron.py:563: ConvergenceWarning: Stochastic Optimizer: Maximum iterations reached and the optimization hasn't converged yet.\n",
      "  % (), ConvergenceWarning)\n"
     ]
    }
   ],
   "source": [
    "#MultiLayer Perception Classifier with 150 features and dimension reduction using PCA\n",
    "\n",
    "nn = neural.MLPClassifier(hidden_layer_sizes=(100),max_iter=1000,solver='sgd')\n",
    "yprednn3 = nn.fit(xtrain4,ytrain).predict(xtest4)\n",
    "print (metrics.accuracy_score(ytest,yprednn3))"
   ]
  }
 ],
 "metadata": {
  "anaconda-cloud": {},
  "kernelspec": {
   "display_name": "Python [conda root]",
   "language": "python",
   "name": "conda-root-py"
  },
  "language_info": {
   "codemirror_mode": {
    "name": "ipython",
    "version": 3
   },
   "file_extension": ".py",
   "mimetype": "text/x-python",
   "name": "python",
   "nbconvert_exporter": "python",
   "pygments_lexer": "ipython3",
   "version": "3.5.2"
  }
 },
 "nbformat": 4,
 "nbformat_minor": 1
}
