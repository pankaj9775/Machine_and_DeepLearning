{
 "cells": [
  {
   "cell_type": "code",
   "execution_count": 1,
   "metadata": {
    "collapsed": true
   },
   "outputs": [],
   "source": [
    "import pandas as pd\n",
    "import numpy as np\n",
    "from sklearn import metrics\n",
    "\n",
    "import tensorflow as tf\n",
    "from sklearn import preprocessing\n",
    "\n",
    "#tf.logging.set_verbosity(tf.logging.INFO)\n",
    "from sklearn import decomposition"
   ]
  },
  {
   "cell_type": "code",
   "execution_count": 2,
   "metadata": {
    "collapsed": false
   },
   "outputs": [
    {
     "name": "stdout",
     "output_type": "stream",
     "text": [
      "Shape of Train data: (92650, 117)\n",
      "Shape of Test data: (10294, 117)\n",
      "rain shape: (92650, 117)\n",
      "test shape: (10294, 117)\n"
     ]
    }
   ],
   "source": [
    "#Read the data file\n",
    "train = pd.read_csv('./data/dota/dota2Train.csv', header=None)\n",
    "print (\"Shape of Train data:\",train.shape)\n",
    "\n",
    "test = pd.read_csv('./data/dota/dota2Test.csv', header=None)\n",
    "print (\"Shape of Test data:\",test.shape)\n",
    "\n",
    "print (\"rain shape:\",train.shape)\n",
    "print (\"test shape:\",test.shape)"
   ]
  },
  {
   "cell_type": "code",
   "execution_count": 3,
   "metadata": {
    "collapsed": false
   },
   "outputs": [],
   "source": [
    "coloumns = (train.columns)\n",
    "features = train.ix[:3,1:]\n",
    "features = features.columns"
   ]
  },
  {
   "cell_type": "code",
   "execution_count": 4,
   "metadata": {
    "collapsed": true
   },
   "outputs": [],
   "source": [
    "coloumns = list(coloumns)\n",
    "features = list(features)"
   ]
  },
  {
   "cell_type": "code",
   "execution_count": 5,
   "metadata": {
    "collapsed": true
   },
   "outputs": [],
   "source": [
    "training_set = train\n",
    "test_set = test"
   ]
  },
  {
   "cell_type": "code",
   "execution_count": 6,
   "metadata": {
    "collapsed": false
   },
   "outputs": [
    {
     "name": "stdout",
     "output_type": "stream",
     "text": [
      "(92650, 117)\n",
      "(10294, 117)\n"
     ]
    }
   ],
   "source": [
    "print(training_set.shape)\n",
    "print(test_set.shape)"
   ]
  },
  {
   "cell_type": "code",
   "execution_count": 7,
   "metadata": {
    "collapsed": false
   },
   "outputs": [
    {
     "name": "stdout",
     "output_type": "stream",
     "text": [
      "117\n",
      "116\n",
      "(92650, 117)\n",
      "(10294, 117)\n"
     ]
    }
   ],
   "source": [
    "lb = preprocessing.LabelEncoder()\n",
    "f1 = lb.fit_transform(coloumns)\n",
    "# feature_names.sort()\n",
    "f2 = lb.transform(features)\n",
    "f1 = f1.astype('str')\n",
    "f2 = f2.astype('str')\n",
    "f1 = list(f1)\n",
    "f2= list(f2)\n",
    "\n",
    "f1 = [\"a\" + f1 for f1 in f1]\n",
    "f2 = [\"a\" + f2 for f2 in f2]\n",
    "\n",
    "training_set.columns = f1\n",
    "test_set.columns = f1\n",
    "\n",
    "print(len(f1))\n",
    "print(len(f2))\n",
    "\n",
    "print(training_set.shape)\n",
    "print(test_set.shape)"
   ]
  },
  {
   "cell_type": "code",
   "execution_count": 8,
   "metadata": {
    "collapsed": true
   },
   "outputs": [],
   "source": [
    "COLUMNS = f1\n",
    "FEATURES = f2\n",
    "LABEL = 'a0'"
   ]
  },
  {
   "cell_type": "code",
   "execution_count": 9,
   "metadata": {
    "collapsed": true
   },
   "outputs": [],
   "source": [
    "training_set.a0 = training_set.a0.replace(to_replace=[-1], value=[0])\n",
    "test_set.a0 = test_set.a0.replace(to_replace=[-1], value=[0])"
   ]
  },
  {
   "cell_type": "code",
   "execution_count": 10,
   "metadata": {
    "collapsed": false
   },
   "outputs": [
    {
     "name": "stdout",
     "output_type": "stream",
     "text": [
      "INFO:tensorflow:Using default config.\n",
      "INFO:tensorflow:Using config: {'_save_checkpoints_steps': None, '_task_type': None, '_evaluation_master': '', '_save_summary_steps': 100, '_num_ps_replicas': 0, '_cluster_spec': <tensorflow.python.training.server_lib.ClusterSpec object at 0x00000073901D8898>, '_task_id': 0, '_keep_checkpoint_max': 5, '_keep_checkpoint_every_n_hours': 10000, '_tf_random_seed': None, '_master': '', '_is_chief': True, '_tf_config': gpu_options {\n",
      "  per_process_gpu_memory_fraction: 1\n",
      "}\n",
      ", '_environment': 'local', '_save_checkpoints_secs': 600}\n"
     ]
    }
   ],
   "source": [
    "def input_fn(data_set):\n",
    "  feature_cols = {k: tf.constant(data_set[k].values) for k in FEATURES}\n",
    "  labels = tf.constant(data_set[LABEL].values)\n",
    "  return feature_cols, labels\n",
    "\n",
    "feature_cols = [tf.contrib.layers.real_valued_column(k) for k in FEATURES]\n",
    "\n",
    "classifier = tf.contrib.learn.DNNClassifier(feature_columns=feature_cols,hidden_units=[5,5], model_dir='./model/',n_classes=2,\n",
    "                                           optimizer=tf.train.AdagradOptimizer(learning_rate=0.01))"
   ]
  },
  {
   "cell_type": "code",
   "execution_count": 13,
   "metadata": {
    "collapsed": false
   },
   "outputs": [
    {
     "name": "stdout",
     "output_type": "stream",
     "text": [
      "WARNING:tensorflow:Rank of input Tensor (1) should be the same as output_rank (2) for column. Will attempt to expand dims. It is highly recommended that you resize your input, as this behavior may change.\n",
      "WARNING:tensorflow:Rank of input Tensor (1) should be the same as output_rank (2) for column. Will attempt to expand dims. It is highly recommended that you resize your input, as this behavior may change.\n",
      "WARNING:tensorflow:Rank of input Tensor (1) should be the same as output_rank (2) for column. Will attempt to expand dims. It is highly recommended that you resize your input, as this behavior may change.\n",
      "WARNING:tensorflow:Rank of input Tensor (1) should be the same as output_rank (2) for column. Will attempt to expand dims. It is highly recommended that you resize your input, as this behavior may change.\n",
      "WARNING:tensorflow:Rank of input Tensor (1) should be the same as output_rank (2) for column. Will attempt to expand dims. It is highly recommended that you resize your input, as this behavior may change.\n",
      "WARNING:tensorflow:Rank of input Tensor (1) should be the same as output_rank (2) for column. Will attempt to expand dims. It is highly recommended that you resize your input, as this behavior may change.\n",
      "WARNING:tensorflow:Rank of input Tensor (1) should be the same as output_rank (2) for column. Will attempt to expand dims. It is highly recommended that you resize your input, as this behavior may change.\n",
      "WARNING:tensorflow:Rank of input Tensor (1) should be the same as output_rank (2) for column. Will attempt to expand dims. It is highly recommended that you resize your input, as this behavior may change.\n",
      "WARNING:tensorflow:Rank of input Tensor (1) should be the same as output_rank (2) for column. Will attempt to expand dims. It is highly recommended that you resize your input, as this behavior may change.\n",
      "WARNING:tensorflow:Rank of input Tensor (1) should be the same as output_rank (2) for column. Will attempt to expand dims. It is highly recommended that you resize your input, as this behavior may change.\n",
      "WARNING:tensorflow:Rank of input Tensor (1) should be the same as output_rank (2) for column. Will attempt to expand dims. It is highly recommended that you resize your input, as this behavior may change.\n",
      "WARNING:tensorflow:Rank of input Tensor (1) should be the same as output_rank (2) for column. Will attempt to expand dims. It is highly recommended that you resize your input, as this behavior may change.\n",
      "WARNING:tensorflow:Rank of input Tensor (1) should be the same as output_rank (2) for column. Will attempt to expand dims. It is highly recommended that you resize your input, as this behavior may change.\n",
      "WARNING:tensorflow:Rank of input Tensor (1) should be the same as output_rank (2) for column. Will attempt to expand dims. It is highly recommended that you resize your input, as this behavior may change.\n",
      "WARNING:tensorflow:Rank of input Tensor (1) should be the same as output_rank (2) for column. Will attempt to expand dims. It is highly recommended that you resize your input, as this behavior may change.\n",
      "WARNING:tensorflow:Rank of input Tensor (1) should be the same as output_rank (2) for column. Will attempt to expand dims. It is highly recommended that you resize your input, as this behavior may change.\n",
      "WARNING:tensorflow:Rank of input Tensor (1) should be the same as output_rank (2) for column. Will attempt to expand dims. It is highly recommended that you resize your input, as this behavior may change.\n",
      "WARNING:tensorflow:Rank of input Tensor (1) should be the same as output_rank (2) for column. Will attempt to expand dims. It is highly recommended that you resize your input, as this behavior may change.\n",
      "WARNING:tensorflow:Rank of input Tensor (1) should be the same as output_rank (2) for column. Will attempt to expand dims. It is highly recommended that you resize your input, as this behavior may change.\n",
      "WARNING:tensorflow:Rank of input Tensor (1) should be the same as output_rank (2) for column. Will attempt to expand dims. It is highly recommended that you resize your input, as this behavior may change.\n",
      "WARNING:tensorflow:Rank of input Tensor (1) should be the same as output_rank (2) for column. Will attempt to expand dims. It is highly recommended that you resize your input, as this behavior may change.\n",
      "WARNING:tensorflow:Rank of input Tensor (1) should be the same as output_rank (2) for column. Will attempt to expand dims. It is highly recommended that you resize your input, as this behavior may change.\n",
      "WARNING:tensorflow:Rank of input Tensor (1) should be the same as output_rank (2) for column. Will attempt to expand dims. It is highly recommended that you resize your input, as this behavior may change.\n",
      "WARNING:tensorflow:Rank of input Tensor (1) should be the same as output_rank (2) for column. Will attempt to expand dims. It is highly recommended that you resize your input, as this behavior may change.\n",
      "WARNING:tensorflow:Rank of input Tensor (1) should be the same as output_rank (2) for column. Will attempt to expand dims. It is highly recommended that you resize your input, as this behavior may change.\n",
      "WARNING:tensorflow:Rank of input Tensor (1) should be the same as output_rank (2) for column. Will attempt to expand dims. It is highly recommended that you resize your input, as this behavior may change.\n",
      "WARNING:tensorflow:Rank of input Tensor (1) should be the same as output_rank (2) for column. Will attempt to expand dims. It is highly recommended that you resize your input, as this behavior may change.\n",
      "WARNING:tensorflow:Rank of input Tensor (1) should be the same as output_rank (2) for column. Will attempt to expand dims. It is highly recommended that you resize your input, as this behavior may change.\n",
      "WARNING:tensorflow:Rank of input Tensor (1) should be the same as output_rank (2) for column. Will attempt to expand dims. It is highly recommended that you resize your input, as this behavior may change.\n",
      "WARNING:tensorflow:Rank of input Tensor (1) should be the same as output_rank (2) for column. Will attempt to expand dims. It is highly recommended that you resize your input, as this behavior may change.\n",
      "WARNING:tensorflow:Rank of input Tensor (1) should be the same as output_rank (2) for column. Will attempt to expand dims. It is highly recommended that you resize your input, as this behavior may change.\n",
      "WARNING:tensorflow:Rank of input Tensor (1) should be the same as output_rank (2) for column. Will attempt to expand dims. It is highly recommended that you resize your input, as this behavior may change.\n",
      "WARNING:tensorflow:Rank of input Tensor (1) should be the same as output_rank (2) for column. Will attempt to expand dims. It is highly recommended that you resize your input, as this behavior may change.\n",
      "WARNING:tensorflow:Rank of input Tensor (1) should be the same as output_rank (2) for column. Will attempt to expand dims. It is highly recommended that you resize your input, as this behavior may change.\n",
      "WARNING:tensorflow:Rank of input Tensor (1) should be the same as output_rank (2) for column. Will attempt to expand dims. It is highly recommended that you resize your input, as this behavior may change.\n",
      "WARNING:tensorflow:Rank of input Tensor (1) should be the same as output_rank (2) for column. Will attempt to expand dims. It is highly recommended that you resize your input, as this behavior may change.\n",
      "WARNING:tensorflow:Rank of input Tensor (1) should be the same as output_rank (2) for column. Will attempt to expand dims. It is highly recommended that you resize your input, as this behavior may change.\n",
      "WARNING:tensorflow:Rank of input Tensor (1) should be the same as output_rank (2) for column. Will attempt to expand dims. It is highly recommended that you resize your input, as this behavior may change.\n",
      "WARNING:tensorflow:Rank of input Tensor (1) should be the same as output_rank (2) for column. Will attempt to expand dims. It is highly recommended that you resize your input, as this behavior may change.\n",
      "WARNING:tensorflow:Rank of input Tensor (1) should be the same as output_rank (2) for column. Will attempt to expand dims. It is highly recommended that you resize your input, as this behavior may change.\n",
      "WARNING:tensorflow:Rank of input Tensor (1) should be the same as output_rank (2) for column. Will attempt to expand dims. It is highly recommended that you resize your input, as this behavior may change.\n",
      "WARNING:tensorflow:Rank of input Tensor (1) should be the same as output_rank (2) for column. Will attempt to expand dims. It is highly recommended that you resize your input, as this behavior may change.\n",
      "WARNING:tensorflow:Rank of input Tensor (1) should be the same as output_rank (2) for column. Will attempt to expand dims. It is highly recommended that you resize your input, as this behavior may change.\n",
      "WARNING:tensorflow:Rank of input Tensor (1) should be the same as output_rank (2) for column. Will attempt to expand dims. It is highly recommended that you resize your input, as this behavior may change.\n",
      "WARNING:tensorflow:Rank of input Tensor (1) should be the same as output_rank (2) for column. Will attempt to expand dims. It is highly recommended that you resize your input, as this behavior may change.\n",
      "WARNING:tensorflow:Rank of input Tensor (1) should be the same as output_rank (2) for column. Will attempt to expand dims. It is highly recommended that you resize your input, as this behavior may change.\n",
      "WARNING:tensorflow:Rank of input Tensor (1) should be the same as output_rank (2) for column. Will attempt to expand dims. It is highly recommended that you resize your input, as this behavior may change.\n",
      "WARNING:tensorflow:Rank of input Tensor (1) should be the same as output_rank (2) for column. Will attempt to expand dims. It is highly recommended that you resize your input, as this behavior may change.\n",
      "WARNING:tensorflow:Rank of input Tensor (1) should be the same as output_rank (2) for column. Will attempt to expand dims. It is highly recommended that you resize your input, as this behavior may change.\n",
      "WARNING:tensorflow:Rank of input Tensor (1) should be the same as output_rank (2) for column. Will attempt to expand dims. It is highly recommended that you resize your input, as this behavior may change.\n",
      "WARNING:tensorflow:Rank of input Tensor (1) should be the same as output_rank (2) for column. Will attempt to expand dims. It is highly recommended that you resize your input, as this behavior may change.\n",
      "WARNING:tensorflow:Rank of input Tensor (1) should be the same as output_rank (2) for column. Will attempt to expand dims. It is highly recommended that you resize your input, as this behavior may change.\n",
      "WARNING:tensorflow:Rank of input Tensor (1) should be the same as output_rank (2) for column. Will attempt to expand dims. It is highly recommended that you resize your input, as this behavior may change.\n",
      "WARNING:tensorflow:Rank of input Tensor (1) should be the same as output_rank (2) for column. Will attempt to expand dims. It is highly recommended that you resize your input, as this behavior may change.\n",
      "WARNING:tensorflow:Rank of input Tensor (1) should be the same as output_rank (2) for column. Will attempt to expand dims. It is highly recommended that you resize your input, as this behavior may change.\n",
      "WARNING:tensorflow:Rank of input Tensor (1) should be the same as output_rank (2) for column. Will attempt to expand dims. It is highly recommended that you resize your input, as this behavior may change.\n",
      "WARNING:tensorflow:Rank of input Tensor (1) should be the same as output_rank (2) for column. Will attempt to expand dims. It is highly recommended that you resize your input, as this behavior may change.\n",
      "WARNING:tensorflow:Rank of input Tensor (1) should be the same as output_rank (2) for column. Will attempt to expand dims. It is highly recommended that you resize your input, as this behavior may change.\n",
      "WARNING:tensorflow:Rank of input Tensor (1) should be the same as output_rank (2) for column. Will attempt to expand dims. It is highly recommended that you resize your input, as this behavior may change.\n",
      "WARNING:tensorflow:Rank of input Tensor (1) should be the same as output_rank (2) for column. Will attempt to expand dims. It is highly recommended that you resize your input, as this behavior may change.\n",
      "WARNING:tensorflow:Rank of input Tensor (1) should be the same as output_rank (2) for column. Will attempt to expand dims. It is highly recommended that you resize your input, as this behavior may change.\n",
      "WARNING:tensorflow:Rank of input Tensor (1) should be the same as output_rank (2) for column. Will attempt to expand dims. It is highly recommended that you resize your input, as this behavior may change.\n",
      "WARNING:tensorflow:Rank of input Tensor (1) should be the same as output_rank (2) for column. Will attempt to expand dims. It is highly recommended that you resize your input, as this behavior may change.\n",
      "WARNING:tensorflow:Rank of input Tensor (1) should be the same as output_rank (2) for column. Will attempt to expand dims. It is highly recommended that you resize your input, as this behavior may change.\n",
      "WARNING:tensorflow:Rank of input Tensor (1) should be the same as output_rank (2) for column. Will attempt to expand dims. It is highly recommended that you resize your input, as this behavior may change.\n",
      "WARNING:tensorflow:Rank of input Tensor (1) should be the same as output_rank (2) for column. Will attempt to expand dims. It is highly recommended that you resize your input, as this behavior may change.\n",
      "WARNING:tensorflow:Rank of input Tensor (1) should be the same as output_rank (2) for column. Will attempt to expand dims. It is highly recommended that you resize your input, as this behavior may change.\n",
      "WARNING:tensorflow:Rank of input Tensor (1) should be the same as output_rank (2) for column. Will attempt to expand dims. It is highly recommended that you resize your input, as this behavior may change.\n",
      "WARNING:tensorflow:Rank of input Tensor (1) should be the same as output_rank (2) for column. Will attempt to expand dims. It is highly recommended that you resize your input, as this behavior may change.\n",
      "WARNING:tensorflow:Rank of input Tensor (1) should be the same as output_rank (2) for column. Will attempt to expand dims. It is highly recommended that you resize your input, as this behavior may change.\n",
      "WARNING:tensorflow:Rank of input Tensor (1) should be the same as output_rank (2) for column. Will attempt to expand dims. It is highly recommended that you resize your input, as this behavior may change.\n",
      "WARNING:tensorflow:Rank of input Tensor (1) should be the same as output_rank (2) for column. Will attempt to expand dims. It is highly recommended that you resize your input, as this behavior may change.\n",
      "WARNING:tensorflow:Rank of input Tensor (1) should be the same as output_rank (2) for column. Will attempt to expand dims. It is highly recommended that you resize your input, as this behavior may change.\n",
      "WARNING:tensorflow:Rank of input Tensor (1) should be the same as output_rank (2) for column. Will attempt to expand dims. It is highly recommended that you resize your input, as this behavior may change.\n",
      "WARNING:tensorflow:Rank of input Tensor (1) should be the same as output_rank (2) for column. Will attempt to expand dims. It is highly recommended that you resize your input, as this behavior may change.\n",
      "WARNING:tensorflow:Rank of input Tensor (1) should be the same as output_rank (2) for column. Will attempt to expand dims. It is highly recommended that you resize your input, as this behavior may change.\n",
      "WARNING:tensorflow:Rank of input Tensor (1) should be the same as output_rank (2) for column. Will attempt to expand dims. It is highly recommended that you resize your input, as this behavior may change.\n",
      "WARNING:tensorflow:Rank of input Tensor (1) should be the same as output_rank (2) for column. Will attempt to expand dims. It is highly recommended that you resize your input, as this behavior may change.\n",
      "WARNING:tensorflow:Rank of input Tensor (1) should be the same as output_rank (2) for column. Will attempt to expand dims. It is highly recommended that you resize your input, as this behavior may change.\n",
      "WARNING:tensorflow:Rank of input Tensor (1) should be the same as output_rank (2) for column. Will attempt to expand dims. It is highly recommended that you resize your input, as this behavior may change.\n",
      "WARNING:tensorflow:Rank of input Tensor (1) should be the same as output_rank (2) for column. Will attempt to expand dims. It is highly recommended that you resize your input, as this behavior may change.\n",
      "WARNING:tensorflow:Rank of input Tensor (1) should be the same as output_rank (2) for column. Will attempt to expand dims. It is highly recommended that you resize your input, as this behavior may change.\n",
      "WARNING:tensorflow:Rank of input Tensor (1) should be the same as output_rank (2) for column. Will attempt to expand dims. It is highly recommended that you resize your input, as this behavior may change.\n",
      "WARNING:tensorflow:Rank of input Tensor (1) should be the same as output_rank (2) for column. Will attempt to expand dims. It is highly recommended that you resize your input, as this behavior may change.\n",
      "WARNING:tensorflow:Rank of input Tensor (1) should be the same as output_rank (2) for column. Will attempt to expand dims. It is highly recommended that you resize your input, as this behavior may change.\n",
      "WARNING:tensorflow:Rank of input Tensor (1) should be the same as output_rank (2) for column. Will attempt to expand dims. It is highly recommended that you resize your input, as this behavior may change.\n",
      "WARNING:tensorflow:Rank of input Tensor (1) should be the same as output_rank (2) for column. Will attempt to expand dims. It is highly recommended that you resize your input, as this behavior may change.\n",
      "WARNING:tensorflow:Rank of input Tensor (1) should be the same as output_rank (2) for column. Will attempt to expand dims. It is highly recommended that you resize your input, as this behavior may change.\n",
      "WARNING:tensorflow:Rank of input Tensor (1) should be the same as output_rank (2) for column. Will attempt to expand dims. It is highly recommended that you resize your input, as this behavior may change.\n",
      "WARNING:tensorflow:Rank of input Tensor (1) should be the same as output_rank (2) for column. Will attempt to expand dims. It is highly recommended that you resize your input, as this behavior may change.\n",
      "WARNING:tensorflow:Rank of input Tensor (1) should be the same as output_rank (2) for column. Will attempt to expand dims. It is highly recommended that you resize your input, as this behavior may change.\n",
      "WARNING:tensorflow:Rank of input Tensor (1) should be the same as output_rank (2) for column. Will attempt to expand dims. It is highly recommended that you resize your input, as this behavior may change.\n",
      "WARNING:tensorflow:Rank of input Tensor (1) should be the same as output_rank (2) for column. Will attempt to expand dims. It is highly recommended that you resize your input, as this behavior may change.\n",
      "WARNING:tensorflow:Rank of input Tensor (1) should be the same as output_rank (2) for column. Will attempt to expand dims. It is highly recommended that you resize your input, as this behavior may change.\n",
      "WARNING:tensorflow:Rank of input Tensor (1) should be the same as output_rank (2) for column. Will attempt to expand dims. It is highly recommended that you resize your input, as this behavior may change.\n",
      "WARNING:tensorflow:Rank of input Tensor (1) should be the same as output_rank (2) for column. Will attempt to expand dims. It is highly recommended that you resize your input, as this behavior may change.\n",
      "WARNING:tensorflow:Rank of input Tensor (1) should be the same as output_rank (2) for column. Will attempt to expand dims. It is highly recommended that you resize your input, as this behavior may change.\n",
      "WARNING:tensorflow:Rank of input Tensor (1) should be the same as output_rank (2) for column. Will attempt to expand dims. It is highly recommended that you resize your input, as this behavior may change.\n",
      "WARNING:tensorflow:Rank of input Tensor (1) should be the same as output_rank (2) for column. Will attempt to expand dims. It is highly recommended that you resize your input, as this behavior may change.\n",
      "WARNING:tensorflow:Rank of input Tensor (1) should be the same as output_rank (2) for column. Will attempt to expand dims. It is highly recommended that you resize your input, as this behavior may change.\n",
      "WARNING:tensorflow:Rank of input Tensor (1) should be the same as output_rank (2) for column. Will attempt to expand dims. It is highly recommended that you resize your input, as this behavior may change.\n",
      "WARNING:tensorflow:Rank of input Tensor (1) should be the same as output_rank (2) for column. Will attempt to expand dims. It is highly recommended that you resize your input, as this behavior may change.\n",
      "WARNING:tensorflow:Rank of input Tensor (1) should be the same as output_rank (2) for column. Will attempt to expand dims. It is highly recommended that you resize your input, as this behavior may change.\n",
      "WARNING:tensorflow:Rank of input Tensor (1) should be the same as output_rank (2) for column. Will attempt to expand dims. It is highly recommended that you resize your input, as this behavior may change.\n",
      "WARNING:tensorflow:Rank of input Tensor (1) should be the same as output_rank (2) for column. Will attempt to expand dims. It is highly recommended that you resize your input, as this behavior may change.\n",
      "WARNING:tensorflow:Rank of input Tensor (1) should be the same as output_rank (2) for column. Will attempt to expand dims. It is highly recommended that you resize your input, as this behavior may change.\n",
      "WARNING:tensorflow:Rank of input Tensor (1) should be the same as output_rank (2) for column. Will attempt to expand dims. It is highly recommended that you resize your input, as this behavior may change.\n",
      "WARNING:tensorflow:Rank of input Tensor (1) should be the same as output_rank (2) for column. Will attempt to expand dims. It is highly recommended that you resize your input, as this behavior may change.\n",
      "WARNING:tensorflow:Rank of input Tensor (1) should be the same as output_rank (2) for column. Will attempt to expand dims. It is highly recommended that you resize your input, as this behavior may change.\n",
      "WARNING:tensorflow:Rank of input Tensor (1) should be the same as output_rank (2) for column. Will attempt to expand dims. It is highly recommended that you resize your input, as this behavior may change.\n",
      "WARNING:tensorflow:Rank of input Tensor (1) should be the same as output_rank (2) for column. Will attempt to expand dims. It is highly recommended that you resize your input, as this behavior may change.\n",
      "WARNING:tensorflow:Rank of input Tensor (1) should be the same as output_rank (2) for column. Will attempt to expand dims. It is highly recommended that you resize your input, as this behavior may change.\n",
      "WARNING:tensorflow:Rank of input Tensor (1) should be the same as output_rank (2) for column. Will attempt to expand dims. It is highly recommended that you resize your input, as this behavior may change.\n",
      "WARNING:tensorflow:Rank of input Tensor (1) should be the same as output_rank (2) for column. Will attempt to expand dims. It is highly recommended that you resize your input, as this behavior may change.\n",
      "WARNING:tensorflow:Rank of input Tensor (1) should be the same as output_rank (2) for column. Will attempt to expand dims. It is highly recommended that you resize your input, as this behavior may change.\n",
      "WARNING:tensorflow:Rank of input Tensor (1) should be the same as output_rank (2) for column. Will attempt to expand dims. It is highly recommended that you resize your input, as this behavior may change.\n",
      "WARNING:tensorflow:From C:\\Users\\Comp\\Anaconda3\\lib\\site-packages\\tensorflow\\contrib\\learn\\python\\learn\\estimators\\head.py:1362: scalar_summary (from tensorflow.python.ops.logging_ops) is deprecated and will be removed after 2016-11-30.\n",
      "Instructions for updating:\n",
      "Please switch to tf.summary.scalar. Note that tf.summary.scalar uses the node name instead of the tag. This means that TensorFlow will automatically de-duplicate summary names based on the scope they are created in. Also, passing a tensor or list of tags to a scalar summary op is no longer supported.\n",
      "INFO:tensorflow:Create CheckpointSaverHook.\n",
      "INFO:tensorflow:Saving checkpoints for 2502 into ./model/model.ckpt.\n",
      "INFO:tensorflow:loss = 0.690802, step = 2502\n",
      "INFO:tensorflow:global_step/sec: 2.61176\n",
      "INFO:tensorflow:loss = 0.69071, step = 2602\n",
      "INFO:tensorflow:global_step/sec: 2.66631\n",
      "INFO:tensorflow:loss = 0.690607, step = 2702\n",
      "INFO:tensorflow:global_step/sec: 2.63064\n",
      "INFO:tensorflow:loss = 0.690494, step = 2802\n",
      "INFO:tensorflow:global_step/sec: 2.67264\n",
      "INFO:tensorflow:loss = 0.690369, step = 2902\n",
      "INFO:tensorflow:global_step/sec: 2.87752\n",
      "INFO:tensorflow:loss = 0.690235, step = 3002\n",
      "INFO:tensorflow:global_step/sec: 2.98778\n",
      "INFO:tensorflow:loss = 0.690085, step = 3102\n",
      "INFO:tensorflow:global_step/sec: 2.81898\n",
      "INFO:tensorflow:loss = 0.689922, step = 3202\n",
      "INFO:tensorflow:global_step/sec: 2.70047\n",
      "INFO:tensorflow:loss = 0.68974, step = 3302\n",
      "INFO:tensorflow:global_step/sec: 2.54886\n",
      "INFO:tensorflow:loss = 0.689545, step = 3402\n",
      "INFO:tensorflow:global_step/sec: 2.77822\n",
      "INFO:tensorflow:loss = 0.689328, step = 3502\n",
      "INFO:tensorflow:global_step/sec: 2.86245\n",
      "INFO:tensorflow:loss = 0.689092, step = 3602\n",
      "INFO:tensorflow:global_step/sec: 2.94025\n",
      "INFO:tensorflow:loss = 0.688833, step = 3702\n",
      "INFO:tensorflow:global_step/sec: 2.85773\n",
      "INFO:tensorflow:loss = 0.688551, step = 3802\n",
      "INFO:tensorflow:global_step/sec: 2.78551\n",
      "INFO:tensorflow:loss = 0.68824, step = 3902\n",
      "INFO:tensorflow:global_step/sec: 2.72025\n",
      "INFO:tensorflow:loss = 0.687907, step = 4002\n",
      "INFO:tensorflow:global_step/sec: 2.83276\n",
      "INFO:tensorflow:loss = 0.687542, step = 4102\n",
      "INFO:tensorflow:Saving checkpoints for 4148 into ./model/model.ckpt.\n",
      "INFO:tensorflow:global_step/sec: 2.4861\n",
      "INFO:tensorflow:loss = 0.687152, step = 4202\n",
      "INFO:tensorflow:global_step/sec: 2.46188\n",
      "INFO:tensorflow:loss = 0.686726, step = 4302\n",
      "INFO:tensorflow:global_step/sec: 2.83341\n",
      "INFO:tensorflow:loss = 0.686623, step = 4402\n",
      "INFO:tensorflow:global_step/sec: 2.77023\n",
      "INFO:tensorflow:loss = 0.685794, step = 4502\n",
      "INFO:tensorflow:global_step/sec: 2.70174\n",
      "INFO:tensorflow:loss = 0.685288, step = 4602\n",
      "INFO:tensorflow:global_step/sec: 2.70371\n",
      "INFO:tensorflow:loss = 0.68475, step = 4702\n",
      "INFO:tensorflow:global_step/sec: 2.76372\n",
      "INFO:tensorflow:loss = 0.68418, step = 4802\n",
      "INFO:tensorflow:global_step/sec: 2.80339\n",
      "INFO:tensorflow:loss = 0.683937, step = 4902\n",
      "INFO:tensorflow:global_step/sec: 2.71797\n",
      "INFO:tensorflow:loss = 0.682976, step = 5002\n",
      "INFO:tensorflow:global_step/sec: 2.83133\n",
      "INFO:tensorflow:loss = 0.682513, step = 5102\n",
      "INFO:tensorflow:global_step/sec: 2.83909\n",
      "INFO:tensorflow:loss = 0.681696, step = 5202\n",
      "INFO:tensorflow:global_step/sec: 2.76342\n",
      "INFO:tensorflow:loss = 0.681027, step = 5302\n",
      "INFO:tensorflow:global_step/sec: 2.88925\n",
      "INFO:tensorflow:loss = 0.680362, step = 5402\n",
      "INFO:tensorflow:global_step/sec: 2.86574\n",
      "INFO:tensorflow:loss = 0.679777, step = 5502\n",
      "INFO:tensorflow:global_step/sec: 2.77126\n",
      "INFO:tensorflow:loss = 0.679006, step = 5602\n",
      "INFO:tensorflow:global_step/sec: 2.8687\n",
      "INFO:tensorflow:loss = 0.67837, step = 5702\n",
      "INFO:tensorflow:Saving checkpoints for 5798 into ./model/model.ckpt.\n",
      "INFO:tensorflow:global_step/sec: 2.44712\n",
      "INFO:tensorflow:loss = 0.677926, step = 5802\n",
      "INFO:tensorflow:global_step/sec: 2.89193\n",
      "INFO:tensorflow:loss = 0.677032, step = 5902\n",
      "INFO:tensorflow:global_step/sec: 2.75072\n",
      "INFO:tensorflow:loss = 0.676402, step = 6002\n",
      "INFO:tensorflow:global_step/sec: 2.86362\n",
      "INFO:tensorflow:loss = 0.675861, step = 6102\n",
      "INFO:tensorflow:global_step/sec: 2.75854\n",
      "INFO:tensorflow:loss = 0.675155, step = 6202\n",
      "INFO:tensorflow:global_step/sec: 2.7179\n",
      "INFO:tensorflow:loss = 0.674553, step = 6302\n",
      "INFO:tensorflow:global_step/sec: 2.75011\n",
      "INFO:tensorflow:loss = 0.674021, step = 6402\n",
      "INFO:tensorflow:global_step/sec: 2.74137\n",
      "INFO:tensorflow:loss = 0.67337, step = 6502\n",
      "INFO:tensorflow:global_step/sec: 2.76999\n",
      "INFO:tensorflow:loss = 0.67286, step = 6602\n",
      "INFO:tensorflow:global_step/sec: 2.86459\n",
      "INFO:tensorflow:loss = 0.672333, step = 6702\n",
      "INFO:tensorflow:global_step/sec: 2.8892\n",
      "INFO:tensorflow:loss = 0.671797, step = 6802\n",
      "INFO:tensorflow:global_step/sec: 2.89889\n",
      "INFO:tensorflow:loss = 0.671339, step = 6902\n",
      "INFO:tensorflow:global_step/sec: 2.7845\n",
      "INFO:tensorflow:loss = 0.670826, step = 7002\n",
      "INFO:tensorflow:global_step/sec: 2.79994\n",
      "INFO:tensorflow:loss = 0.670437, step = 7102\n",
      "INFO:tensorflow:global_step/sec: 2.84382\n",
      "INFO:tensorflow:loss = 0.669973, step = 7202\n",
      "INFO:tensorflow:global_step/sec: 2.7902\n",
      "INFO:tensorflow:loss = 0.669564, step = 7302\n",
      "INFO:tensorflow:global_step/sec: 2.82628\n",
      "INFO:tensorflow:loss = 0.669222, step = 7402\n",
      "INFO:tensorflow:Saving checkpoints for 7466 into ./model/model.ckpt.\n",
      "INFO:tensorflow:Saving checkpoints for 7501 into ./model/model.ckpt.\n",
      "INFO:tensorflow:Loss for final step: 0.668798.\n"
     ]
    },
    {
     "data": {
      "text/plain": [
       "DNNClassifier(params={'input_layer_min_slice_size': None, 'feature_columns': (_RealValuedColumn(column_name='a1', dimension=1, default_value=None, dtype=tf.float32, normalizer=None), _RealValuedColumn(column_name='a2', dimension=1, default_value=None, dtype=tf.float32, normalizer=None), _RealValuedColumn(column_name='a3', dimension=1, default_value=None, dtype=tf.float32, normalizer=None), _RealValuedColumn(column_name='a4', dimension=1, default_value=None, dtype=tf.float32, normalizer=None), _RealValuedColumn(column_name='a5', dimension=1, default_value=None, dtype=tf.float32, normalizer=None), _RealValuedColumn(column_name='a6', dimension=1, default_value=None, dtype=tf.float32, normalizer=None), _RealValuedColumn(column_name='a7', dimension=1, default_value=None, dtype=tf.float32, normalizer=None), _RealValuedColumn(column_name='a8', dimension=1, default_value=None, dtype=tf.float32, normalizer=None), _RealValuedColumn(column_name='a9', dimension=1, default_value=None, dtype=tf.float32, normalizer=None), _RealValuedColumn(column_name='a10', dimension=1, default_value=None, dtype=tf.float32, normalizer=None), _RealValuedColumn(column_name='a11', dimension=1, default_value=None, dtype=tf.float32, normalizer=None), _RealValuedColumn(column_name='a12', dimension=1, default_value=None, dtype=tf.float32, normalizer=None), _RealValuedColumn(column_name='a13', dimension=1, default_value=None, dtype=tf.float32, normalizer=None), _RealValuedColumn(column_name='a14', dimension=1, default_value=None, dtype=tf.float32, normalizer=None), _RealValuedColumn(column_name='a15', dimension=1, default_value=None, dtype=tf.float32, normalizer=None), _RealValuedColumn(column_name='a16', dimension=1, default_value=None, dtype=tf.float32, normalizer=None), _RealValuedColumn(column_name='a17', dimension=1, default_value=None, dtype=tf.float32, normalizer=None), _RealValuedColumn(column_name='a18', dimension=1, default_value=None, dtype=tf.float32, normalizer=None), _RealValuedColumn(column_name='a19', dimension=1, default_value=None, dtype=tf.float32, normalizer=None), _RealValuedColumn(column_name='a20', dimension=1, default_value=None, dtype=tf.float32, normalizer=None), _RealValuedColumn(column_name='a21', dimension=1, default_value=None, dtype=tf.float32, normalizer=None), _RealValuedColumn(column_name='a22', dimension=1, default_value=None, dtype=tf.float32, normalizer=None), _RealValuedColumn(column_name='a23', dimension=1, default_value=None, dtype=tf.float32, normalizer=None), _RealValuedColumn(column_name='a24', dimension=1, default_value=None, dtype=tf.float32, normalizer=None), _RealValuedColumn(column_name='a25', dimension=1, default_value=None, dtype=tf.float32, normalizer=None), _RealValuedColumn(column_name='a26', dimension=1, default_value=None, dtype=tf.float32, normalizer=None), _RealValuedColumn(column_name='a27', dimension=1, default_value=None, dtype=tf.float32, normalizer=None), _RealValuedColumn(column_name='a28', dimension=1, default_value=None, dtype=tf.float32, normalizer=None), _RealValuedColumn(column_name='a29', dimension=1, default_value=None, dtype=tf.float32, normalizer=None), _RealValuedColumn(column_name='a30', dimension=1, default_value=None, dtype=tf.float32, normalizer=None), _RealValuedColumn(column_name='a31', dimension=1, default_value=None, dtype=tf.float32, normalizer=None), _RealValuedColumn(column_name='a32', dimension=1, default_value=None, dtype=tf.float32, normalizer=None), _RealValuedColumn(column_name='a33', dimension=1, default_value=None, dtype=tf.float32, normalizer=None), _RealValuedColumn(column_name='a34', dimension=1, default_value=None, dtype=tf.float32, normalizer=None), _RealValuedColumn(column_name='a35', dimension=1, default_value=None, dtype=tf.float32, normalizer=None), _RealValuedColumn(column_name='a36', dimension=1, default_value=None, dtype=tf.float32, normalizer=None), _RealValuedColumn(column_name='a37', dimension=1, default_value=None, dtype=tf.float32, normalizer=None), _RealValuedColumn(column_name='a38', dimension=1, default_value=None, dtype=tf.float32, normalizer=None), _RealValuedColumn(column_name='a39', dimension=1, default_value=None, dtype=tf.float32, normalizer=None), _RealValuedColumn(column_name='a40', dimension=1, default_value=None, dtype=tf.float32, normalizer=None), _RealValuedColumn(column_name='a41', dimension=1, default_value=None, dtype=tf.float32, normalizer=None), _RealValuedColumn(column_name='a42', dimension=1, default_value=None, dtype=tf.float32, normalizer=None), _RealValuedColumn(column_name='a43', dimension=1, default_value=None, dtype=tf.float32, normalizer=None), _RealValuedColumn(column_name='a44', dimension=1, default_value=None, dtype=tf.float32, normalizer=None), _RealValuedColumn(column_name='a45', dimension=1, default_value=None, dtype=tf.float32, normalizer=None), _RealValuedColumn(column_name='a46', dimension=1, default_value=None, dtype=tf.float32, normalizer=None), _RealValuedColumn(column_name='a47', dimension=1, default_value=None, dtype=tf.float32, normalizer=None), _RealValuedColumn(column_name='a48', dimension=1, default_value=None, dtype=tf.float32, normalizer=None), _RealValuedColumn(column_name='a49', dimension=1, default_value=None, dtype=tf.float32, normalizer=None), _RealValuedColumn(column_name='a50', dimension=1, default_value=None, dtype=tf.float32, normalizer=None), _RealValuedColumn(column_name='a51', dimension=1, default_value=None, dtype=tf.float32, normalizer=None), _RealValuedColumn(column_name='a52', dimension=1, default_value=None, dtype=tf.float32, normalizer=None), _RealValuedColumn(column_name='a53', dimension=1, default_value=None, dtype=tf.float32, normalizer=None), _RealValuedColumn(column_name='a54', dimension=1, default_value=None, dtype=tf.float32, normalizer=None), _RealValuedColumn(column_name='a55', dimension=1, default_value=None, dtype=tf.float32, normalizer=None), _RealValuedColumn(column_name='a56', dimension=1, default_value=None, dtype=tf.float32, normalizer=None), _RealValuedColumn(column_name='a57', dimension=1, default_value=None, dtype=tf.float32, normalizer=None), _RealValuedColumn(column_name='a58', dimension=1, default_value=None, dtype=tf.float32, normalizer=None), _RealValuedColumn(column_name='a59', dimension=1, default_value=None, dtype=tf.float32, normalizer=None), _RealValuedColumn(column_name='a60', dimension=1, default_value=None, dtype=tf.float32, normalizer=None), _RealValuedColumn(column_name='a61', dimension=1, default_value=None, dtype=tf.float32, normalizer=None), _RealValuedColumn(column_name='a62', dimension=1, default_value=None, dtype=tf.float32, normalizer=None), _RealValuedColumn(column_name='a63', dimension=1, default_value=None, dtype=tf.float32, normalizer=None), _RealValuedColumn(column_name='a64', dimension=1, default_value=None, dtype=tf.float32, normalizer=None), _RealValuedColumn(column_name='a65', dimension=1, default_value=None, dtype=tf.float32, normalizer=None), _RealValuedColumn(column_name='a66', dimension=1, default_value=None, dtype=tf.float32, normalizer=None), _RealValuedColumn(column_name='a67', dimension=1, default_value=None, dtype=tf.float32, normalizer=None), _RealValuedColumn(column_name='a68', dimension=1, default_value=None, dtype=tf.float32, normalizer=None), _RealValuedColumn(column_name='a69', dimension=1, default_value=None, dtype=tf.float32, normalizer=None), _RealValuedColumn(column_name='a70', dimension=1, default_value=None, dtype=tf.float32, normalizer=None), _RealValuedColumn(column_name='a71', dimension=1, default_value=None, dtype=tf.float32, normalizer=None), _RealValuedColumn(column_name='a72', dimension=1, default_value=None, dtype=tf.float32, normalizer=None), _RealValuedColumn(column_name='a73', dimension=1, default_value=None, dtype=tf.float32, normalizer=None), _RealValuedColumn(column_name='a74', dimension=1, default_value=None, dtype=tf.float32, normalizer=None), _RealValuedColumn(column_name='a75', dimension=1, default_value=None, dtype=tf.float32, normalizer=None), _RealValuedColumn(column_name='a76', dimension=1, default_value=None, dtype=tf.float32, normalizer=None), _RealValuedColumn(column_name='a77', dimension=1, default_value=None, dtype=tf.float32, normalizer=None), _RealValuedColumn(column_name='a78', dimension=1, default_value=None, dtype=tf.float32, normalizer=None), _RealValuedColumn(column_name='a79', dimension=1, default_value=None, dtype=tf.float32, normalizer=None), _RealValuedColumn(column_name='a80', dimension=1, default_value=None, dtype=tf.float32, normalizer=None), _RealValuedColumn(column_name='a81', dimension=1, default_value=None, dtype=tf.float32, normalizer=None), _RealValuedColumn(column_name='a82', dimension=1, default_value=None, dtype=tf.float32, normalizer=None), _RealValuedColumn(column_name='a83', dimension=1, default_value=None, dtype=tf.float32, normalizer=None), _RealValuedColumn(column_name='a84', dimension=1, default_value=None, dtype=tf.float32, normalizer=None), _RealValuedColumn(column_name='a85', dimension=1, default_value=None, dtype=tf.float32, normalizer=None), _RealValuedColumn(column_name='a86', dimension=1, default_value=None, dtype=tf.float32, normalizer=None), _RealValuedColumn(column_name='a87', dimension=1, default_value=None, dtype=tf.float32, normalizer=None), _RealValuedColumn(column_name='a88', dimension=1, default_value=None, dtype=tf.float32, normalizer=None), _RealValuedColumn(column_name='a89', dimension=1, default_value=None, dtype=tf.float32, normalizer=None), _RealValuedColumn(column_name='a90', dimension=1, default_value=None, dtype=tf.float32, normalizer=None), _RealValuedColumn(column_name='a91', dimension=1, default_value=None, dtype=tf.float32, normalizer=None), _RealValuedColumn(column_name='a92', dimension=1, default_value=None, dtype=tf.float32, normalizer=None), _RealValuedColumn(column_name='a93', dimension=1, default_value=None, dtype=tf.float32, normalizer=None), _RealValuedColumn(column_name='a94', dimension=1, default_value=None, dtype=tf.float32, normalizer=None), _RealValuedColumn(column_name='a95', dimension=1, default_value=None, dtype=tf.float32, normalizer=None), _RealValuedColumn(column_name='a96', dimension=1, default_value=None, dtype=tf.float32, normalizer=None), _RealValuedColumn(column_name='a97', dimension=1, default_value=None, dtype=tf.float32, normalizer=None), _RealValuedColumn(column_name='a98', dimension=1, default_value=None, dtype=tf.float32, normalizer=None), _RealValuedColumn(column_name='a99', dimension=1, default_value=None, dtype=tf.float32, normalizer=None), _RealValuedColumn(column_name='a100', dimension=1, default_value=None, dtype=tf.float32, normalizer=None), _RealValuedColumn(column_name='a101', dimension=1, default_value=None, dtype=tf.float32, normalizer=None), _RealValuedColumn(column_name='a102', dimension=1, default_value=None, dtype=tf.float32, normalizer=None), _RealValuedColumn(column_name='a103', dimension=1, default_value=None, dtype=tf.float32, normalizer=None), _RealValuedColumn(column_name='a104', dimension=1, default_value=None, dtype=tf.float32, normalizer=None), _RealValuedColumn(column_name='a105', dimension=1, default_value=None, dtype=tf.float32, normalizer=None), _RealValuedColumn(column_name='a106', dimension=1, default_value=None, dtype=tf.float32, normalizer=None), _RealValuedColumn(column_name='a107', dimension=1, default_value=None, dtype=tf.float32, normalizer=None), _RealValuedColumn(column_name='a108', dimension=1, default_value=None, dtype=tf.float32, normalizer=None), _RealValuedColumn(column_name='a109', dimension=1, default_value=None, dtype=tf.float32, normalizer=None), _RealValuedColumn(column_name='a110', dimension=1, default_value=None, dtype=tf.float32, normalizer=None), _RealValuedColumn(column_name='a111', dimension=1, default_value=None, dtype=tf.float32, normalizer=None), _RealValuedColumn(column_name='a112', dimension=1, default_value=None, dtype=tf.float32, normalizer=None), _RealValuedColumn(column_name='a113', dimension=1, default_value=None, dtype=tf.float32, normalizer=None), _RealValuedColumn(column_name='a114', dimension=1, default_value=None, dtype=tf.float32, normalizer=None), _RealValuedColumn(column_name='a115', dimension=1, default_value=None, dtype=tf.float32, normalizer=None), _RealValuedColumn(column_name='a116', dimension=1, default_value=None, dtype=tf.float32, normalizer=None)), 'hidden_units': [5, 5], 'dropout': None, 'head': <tensorflow.contrib.learn.python.learn.estimators.head._BinaryLogisticHead object at 0x00000073901D8940>, 'optimizer': <tensorflow.python.training.adagrad.AdagradOptimizer object at 0x00000073901D8978>, 'gradient_clip_norm': None, 'activation_fn': <function relu at 0x000000738F4A2488>, 'embedding_lr_multipliers': None})"
      ]
     },
     "execution_count": 13,
     "metadata": {},
     "output_type": "execute_result"
    }
   ],
   "source": [
    "classifier.fit(input_fn=lambda: input_fn(training_set),steps=10000)"
   ]
  },
  {
   "cell_type": "code",
   "execution_count": null,
   "metadata": {
    "collapsed": false
   },
   "outputs": [
    {
     "name": "stdout",
     "output_type": "stream",
     "text": [
      "WARNING:tensorflow:Rank of input Tensor (1) should be the same as output_rank (2) for column. Will attempt to expand dims. It is highly recommended that you resize your input, as this behavior may change.\n",
      "WARNING:tensorflow:Rank of input Tensor (1) should be the same as output_rank (2) for column. Will attempt to expand dims. It is highly recommended that you resize your input, as this behavior may change.\n",
      "WARNING:tensorflow:Rank of input Tensor (1) should be the same as output_rank (2) for column. Will attempt to expand dims. It is highly recommended that you resize your input, as this behavior may change.\n",
      "WARNING:tensorflow:Rank of input Tensor (1) should be the same as output_rank (2) for column. Will attempt to expand dims. It is highly recommended that you resize your input, as this behavior may change.\n",
      "WARNING:tensorflow:Rank of input Tensor (1) should be the same as output_rank (2) for column. Will attempt to expand dims. It is highly recommended that you resize your input, as this behavior may change.\n",
      "WARNING:tensorflow:Rank of input Tensor (1) should be the same as output_rank (2) for column. Will attempt to expand dims. It is highly recommended that you resize your input, as this behavior may change.\n",
      "WARNING:tensorflow:Rank of input Tensor (1) should be the same as output_rank (2) for column. Will attempt to expand dims. It is highly recommended that you resize your input, as this behavior may change.\n",
      "WARNING:tensorflow:Rank of input Tensor (1) should be the same as output_rank (2) for column. Will attempt to expand dims. It is highly recommended that you resize your input, as this behavior may change.\n",
      "WARNING:tensorflow:Rank of input Tensor (1) should be the same as output_rank (2) for column. Will attempt to expand dims. It is highly recommended that you resize your input, as this behavior may change.\n",
      "WARNING:tensorflow:Rank of input Tensor (1) should be the same as output_rank (2) for column. Will attempt to expand dims. It is highly recommended that you resize your input, as this behavior may change.\n",
      "WARNING:tensorflow:Rank of input Tensor (1) should be the same as output_rank (2) for column. Will attempt to expand dims. It is highly recommended that you resize your input, as this behavior may change.\n",
      "WARNING:tensorflow:Rank of input Tensor (1) should be the same as output_rank (2) for column. Will attempt to expand dims. It is highly recommended that you resize your input, as this behavior may change.\n",
      "WARNING:tensorflow:Rank of input Tensor (1) should be the same as output_rank (2) for column. Will attempt to expand dims. It is highly recommended that you resize your input, as this behavior may change.\n",
      "WARNING:tensorflow:Rank of input Tensor (1) should be the same as output_rank (2) for column. Will attempt to expand dims. It is highly recommended that you resize your input, as this behavior may change.\n",
      "WARNING:tensorflow:Rank of input Tensor (1) should be the same as output_rank (2) for column. Will attempt to expand dims. It is highly recommended that you resize your input, as this behavior may change.\n",
      "WARNING:tensorflow:Rank of input Tensor (1) should be the same as output_rank (2) for column. Will attempt to expand dims. It is highly recommended that you resize your input, as this behavior may change.\n",
      "WARNING:tensorflow:Rank of input Tensor (1) should be the same as output_rank (2) for column. Will attempt to expand dims. It is highly recommended that you resize your input, as this behavior may change.\n",
      "WARNING:tensorflow:Rank of input Tensor (1) should be the same as output_rank (2) for column. Will attempt to expand dims. It is highly recommended that you resize your input, as this behavior may change.\n",
      "WARNING:tensorflow:Rank of input Tensor (1) should be the same as output_rank (2) for column. Will attempt to expand dims. It is highly recommended that you resize your input, as this behavior may change.\n",
      "WARNING:tensorflow:Rank of input Tensor (1) should be the same as output_rank (2) for column. Will attempt to expand dims. It is highly recommended that you resize your input, as this behavior may change.\n",
      "WARNING:tensorflow:Rank of input Tensor (1) should be the same as output_rank (2) for column. Will attempt to expand dims. It is highly recommended that you resize your input, as this behavior may change.\n",
      "WARNING:tensorflow:Rank of input Tensor (1) should be the same as output_rank (2) for column. Will attempt to expand dims. It is highly recommended that you resize your input, as this behavior may change.\n",
      "WARNING:tensorflow:Rank of input Tensor (1) should be the same as output_rank (2) for column. Will attempt to expand dims. It is highly recommended that you resize your input, as this behavior may change.\n",
      "WARNING:tensorflow:Rank of input Tensor (1) should be the same as output_rank (2) for column. Will attempt to expand dims. It is highly recommended that you resize your input, as this behavior may change.\n",
      "WARNING:tensorflow:Rank of input Tensor (1) should be the same as output_rank (2) for column. Will attempt to expand dims. It is highly recommended that you resize your input, as this behavior may change.\n",
      "WARNING:tensorflow:Rank of input Tensor (1) should be the same as output_rank (2) for column. Will attempt to expand dims. It is highly recommended that you resize your input, as this behavior may change.\n",
      "WARNING:tensorflow:Rank of input Tensor (1) should be the same as output_rank (2) for column. Will attempt to expand dims. It is highly recommended that you resize your input, as this behavior may change.\n",
      "WARNING:tensorflow:Rank of input Tensor (1) should be the same as output_rank (2) for column. Will attempt to expand dims. It is highly recommended that you resize your input, as this behavior may change.\n",
      "WARNING:tensorflow:Rank of input Tensor (1) should be the same as output_rank (2) for column. Will attempt to expand dims. It is highly recommended that you resize your input, as this behavior may change.\n",
      "WARNING:tensorflow:Rank of input Tensor (1) should be the same as output_rank (2) for column. Will attempt to expand dims. It is highly recommended that you resize your input, as this behavior may change.\n",
      "WARNING:tensorflow:Rank of input Tensor (1) should be the same as output_rank (2) for column. Will attempt to expand dims. It is highly recommended that you resize your input, as this behavior may change.\n",
      "WARNING:tensorflow:Rank of input Tensor (1) should be the same as output_rank (2) for column. Will attempt to expand dims. It is highly recommended that you resize your input, as this behavior may change.\n",
      "WARNING:tensorflow:Rank of input Tensor (1) should be the same as output_rank (2) for column. Will attempt to expand dims. It is highly recommended that you resize your input, as this behavior may change.\n",
      "WARNING:tensorflow:Rank of input Tensor (1) should be the same as output_rank (2) for column. Will attempt to expand dims. It is highly recommended that you resize your input, as this behavior may change.\n",
      "WARNING:tensorflow:Rank of input Tensor (1) should be the same as output_rank (2) for column. Will attempt to expand dims. It is highly recommended that you resize your input, as this behavior may change.\n",
      "WARNING:tensorflow:Rank of input Tensor (1) should be the same as output_rank (2) for column. Will attempt to expand dims. It is highly recommended that you resize your input, as this behavior may change.\n",
      "WARNING:tensorflow:Rank of input Tensor (1) should be the same as output_rank (2) for column. Will attempt to expand dims. It is highly recommended that you resize your input, as this behavior may change.\n",
      "WARNING:tensorflow:Rank of input Tensor (1) should be the same as output_rank (2) for column. Will attempt to expand dims. It is highly recommended that you resize your input, as this behavior may change.\n",
      "WARNING:tensorflow:Rank of input Tensor (1) should be the same as output_rank (2) for column. Will attempt to expand dims. It is highly recommended that you resize your input, as this behavior may change.\n",
      "WARNING:tensorflow:Rank of input Tensor (1) should be the same as output_rank (2) for column. Will attempt to expand dims. It is highly recommended that you resize your input, as this behavior may change.\n",
      "WARNING:tensorflow:Rank of input Tensor (1) should be the same as output_rank (2) for column. Will attempt to expand dims. It is highly recommended that you resize your input, as this behavior may change.\n",
      "WARNING:tensorflow:Rank of input Tensor (1) should be the same as output_rank (2) for column. Will attempt to expand dims. It is highly recommended that you resize your input, as this behavior may change.\n",
      "WARNING:tensorflow:Rank of input Tensor (1) should be the same as output_rank (2) for column. Will attempt to expand dims. It is highly recommended that you resize your input, as this behavior may change.\n",
      "WARNING:tensorflow:Rank of input Tensor (1) should be the same as output_rank (2) for column. Will attempt to expand dims. It is highly recommended that you resize your input, as this behavior may change.\n",
      "WARNING:tensorflow:Rank of input Tensor (1) should be the same as output_rank (2) for column. Will attempt to expand dims. It is highly recommended that you resize your input, as this behavior may change.\n",
      "WARNING:tensorflow:Rank of input Tensor (1) should be the same as output_rank (2) for column. Will attempt to expand dims. It is highly recommended that you resize your input, as this behavior may change.\n",
      "WARNING:tensorflow:Rank of input Tensor (1) should be the same as output_rank (2) for column. Will attempt to expand dims. It is highly recommended that you resize your input, as this behavior may change.\n",
      "WARNING:tensorflow:Rank of input Tensor (1) should be the same as output_rank (2) for column. Will attempt to expand dims. It is highly recommended that you resize your input, as this behavior may change.\n",
      "WARNING:tensorflow:Rank of input Tensor (1) should be the same as output_rank (2) for column. Will attempt to expand dims. It is highly recommended that you resize your input, as this behavior may change.\n",
      "WARNING:tensorflow:Rank of input Tensor (1) should be the same as output_rank (2) for column. Will attempt to expand dims. It is highly recommended that you resize your input, as this behavior may change.\n",
      "WARNING:tensorflow:Rank of input Tensor (1) should be the same as output_rank (2) for column. Will attempt to expand dims. It is highly recommended that you resize your input, as this behavior may change.\n",
      "WARNING:tensorflow:Rank of input Tensor (1) should be the same as output_rank (2) for column. Will attempt to expand dims. It is highly recommended that you resize your input, as this behavior may change.\n",
      "WARNING:tensorflow:Rank of input Tensor (1) should be the same as output_rank (2) for column. Will attempt to expand dims. It is highly recommended that you resize your input, as this behavior may change.\n",
      "WARNING:tensorflow:Rank of input Tensor (1) should be the same as output_rank (2) for column. Will attempt to expand dims. It is highly recommended that you resize your input, as this behavior may change.\n",
      "WARNING:tensorflow:Rank of input Tensor (1) should be the same as output_rank (2) for column. Will attempt to expand dims. It is highly recommended that you resize your input, as this behavior may change.\n",
      "WARNING:tensorflow:Rank of input Tensor (1) should be the same as output_rank (2) for column. Will attempt to expand dims. It is highly recommended that you resize your input, as this behavior may change.\n",
      "WARNING:tensorflow:Rank of input Tensor (1) should be the same as output_rank (2) for column. Will attempt to expand dims. It is highly recommended that you resize your input, as this behavior may change.\n",
      "WARNING:tensorflow:Rank of input Tensor (1) should be the same as output_rank (2) for column. Will attempt to expand dims. It is highly recommended that you resize your input, as this behavior may change.\n",
      "WARNING:tensorflow:Rank of input Tensor (1) should be the same as output_rank (2) for column. Will attempt to expand dims. It is highly recommended that you resize your input, as this behavior may change.\n",
      "WARNING:tensorflow:Rank of input Tensor (1) should be the same as output_rank (2) for column. Will attempt to expand dims. It is highly recommended that you resize your input, as this behavior may change.\n",
      "WARNING:tensorflow:Rank of input Tensor (1) should be the same as output_rank (2) for column. Will attempt to expand dims. It is highly recommended that you resize your input, as this behavior may change.\n",
      "WARNING:tensorflow:Rank of input Tensor (1) should be the same as output_rank (2) for column. Will attempt to expand dims. It is highly recommended that you resize your input, as this behavior may change.\n",
      "WARNING:tensorflow:Rank of input Tensor (1) should be the same as output_rank (2) for column. Will attempt to expand dims. It is highly recommended that you resize your input, as this behavior may change.\n",
      "WARNING:tensorflow:Rank of input Tensor (1) should be the same as output_rank (2) for column. Will attempt to expand dims. It is highly recommended that you resize your input, as this behavior may change.\n",
      "WARNING:tensorflow:Rank of input Tensor (1) should be the same as output_rank (2) for column. Will attempt to expand dims. It is highly recommended that you resize your input, as this behavior may change.\n",
      "WARNING:tensorflow:Rank of input Tensor (1) should be the same as output_rank (2) for column. Will attempt to expand dims. It is highly recommended that you resize your input, as this behavior may change.\n",
      "WARNING:tensorflow:Rank of input Tensor (1) should be the same as output_rank (2) for column. Will attempt to expand dims. It is highly recommended that you resize your input, as this behavior may change.\n",
      "WARNING:tensorflow:Rank of input Tensor (1) should be the same as output_rank (2) for column. Will attempt to expand dims. It is highly recommended that you resize your input, as this behavior may change.\n",
      "WARNING:tensorflow:Rank of input Tensor (1) should be the same as output_rank (2) for column. Will attempt to expand dims. It is highly recommended that you resize your input, as this behavior may change.\n",
      "WARNING:tensorflow:Rank of input Tensor (1) should be the same as output_rank (2) for column. Will attempt to expand dims. It is highly recommended that you resize your input, as this behavior may change.\n",
      "WARNING:tensorflow:Rank of input Tensor (1) should be the same as output_rank (2) for column. Will attempt to expand dims. It is highly recommended that you resize your input, as this behavior may change.\n",
      "WARNING:tensorflow:Rank of input Tensor (1) should be the same as output_rank (2) for column. Will attempt to expand dims. It is highly recommended that you resize your input, as this behavior may change.\n",
      "WARNING:tensorflow:Rank of input Tensor (1) should be the same as output_rank (2) for column. Will attempt to expand dims. It is highly recommended that you resize your input, as this behavior may change.\n",
      "WARNING:tensorflow:Rank of input Tensor (1) should be the same as output_rank (2) for column. Will attempt to expand dims. It is highly recommended that you resize your input, as this behavior may change.\n",
      "WARNING:tensorflow:Rank of input Tensor (1) should be the same as output_rank (2) for column. Will attempt to expand dims. It is highly recommended that you resize your input, as this behavior may change.\n",
      "WARNING:tensorflow:Rank of input Tensor (1) should be the same as output_rank (2) for column. Will attempt to expand dims. It is highly recommended that you resize your input, as this behavior may change.\n",
      "WARNING:tensorflow:Rank of input Tensor (1) should be the same as output_rank (2) for column. Will attempt to expand dims. It is highly recommended that you resize your input, as this behavior may change.\n",
      "WARNING:tensorflow:Rank of input Tensor (1) should be the same as output_rank (2) for column. Will attempt to expand dims. It is highly recommended that you resize your input, as this behavior may change.\n",
      "WARNING:tensorflow:Rank of input Tensor (1) should be the same as output_rank (2) for column. Will attempt to expand dims. It is highly recommended that you resize your input, as this behavior may change.\n",
      "WARNING:tensorflow:Rank of input Tensor (1) should be the same as output_rank (2) for column. Will attempt to expand dims. It is highly recommended that you resize your input, as this behavior may change.\n",
      "WARNING:tensorflow:Rank of input Tensor (1) should be the same as output_rank (2) for column. Will attempt to expand dims. It is highly recommended that you resize your input, as this behavior may change.\n",
      "WARNING:tensorflow:Rank of input Tensor (1) should be the same as output_rank (2) for column. Will attempt to expand dims. It is highly recommended that you resize your input, as this behavior may change.\n",
      "WARNING:tensorflow:Rank of input Tensor (1) should be the same as output_rank (2) for column. Will attempt to expand dims. It is highly recommended that you resize your input, as this behavior may change.\n",
      "WARNING:tensorflow:Rank of input Tensor (1) should be the same as output_rank (2) for column. Will attempt to expand dims. It is highly recommended that you resize your input, as this behavior may change.\n",
      "WARNING:tensorflow:Rank of input Tensor (1) should be the same as output_rank (2) for column. Will attempt to expand dims. It is highly recommended that you resize your input, as this behavior may change.\n",
      "WARNING:tensorflow:Rank of input Tensor (1) should be the same as output_rank (2) for column. Will attempt to expand dims. It is highly recommended that you resize your input, as this behavior may change.\n",
      "WARNING:tensorflow:Rank of input Tensor (1) should be the same as output_rank (2) for column. Will attempt to expand dims. It is highly recommended that you resize your input, as this behavior may change.\n",
      "WARNING:tensorflow:Rank of input Tensor (1) should be the same as output_rank (2) for column. Will attempt to expand dims. It is highly recommended that you resize your input, as this behavior may change.\n",
      "WARNING:tensorflow:Rank of input Tensor (1) should be the same as output_rank (2) for column. Will attempt to expand dims. It is highly recommended that you resize your input, as this behavior may change.\n",
      "WARNING:tensorflow:Rank of input Tensor (1) should be the same as output_rank (2) for column. Will attempt to expand dims. It is highly recommended that you resize your input, as this behavior may change.\n",
      "WARNING:tensorflow:Rank of input Tensor (1) should be the same as output_rank (2) for column. Will attempt to expand dims. It is highly recommended that you resize your input, as this behavior may change.\n",
      "WARNING:tensorflow:Rank of input Tensor (1) should be the same as output_rank (2) for column. Will attempt to expand dims. It is highly recommended that you resize your input, as this behavior may change.\n",
      "WARNING:tensorflow:Rank of input Tensor (1) should be the same as output_rank (2) for column. Will attempt to expand dims. It is highly recommended that you resize your input, as this behavior may change.\n",
      "WARNING:tensorflow:Rank of input Tensor (1) should be the same as output_rank (2) for column. Will attempt to expand dims. It is highly recommended that you resize your input, as this behavior may change.\n",
      "WARNING:tensorflow:Rank of input Tensor (1) should be the same as output_rank (2) for column. Will attempt to expand dims. It is highly recommended that you resize your input, as this behavior may change.\n",
      "WARNING:tensorflow:Rank of input Tensor (1) should be the same as output_rank (2) for column. Will attempt to expand dims. It is highly recommended that you resize your input, as this behavior may change.\n",
      "WARNING:tensorflow:Rank of input Tensor (1) should be the same as output_rank (2) for column. Will attempt to expand dims. It is highly recommended that you resize your input, as this behavior may change.\n",
      "WARNING:tensorflow:Rank of input Tensor (1) should be the same as output_rank (2) for column. Will attempt to expand dims. It is highly recommended that you resize your input, as this behavior may change.\n",
      "WARNING:tensorflow:Rank of input Tensor (1) should be the same as output_rank (2) for column. Will attempt to expand dims. It is highly recommended that you resize your input, as this behavior may change.\n",
      "WARNING:tensorflow:Rank of input Tensor (1) should be the same as output_rank (2) for column. Will attempt to expand dims. It is highly recommended that you resize your input, as this behavior may change.\n",
      "WARNING:tensorflow:Rank of input Tensor (1) should be the same as output_rank (2) for column. Will attempt to expand dims. It is highly recommended that you resize your input, as this behavior may change.\n",
      "WARNING:tensorflow:Rank of input Tensor (1) should be the same as output_rank (2) for column. Will attempt to expand dims. It is highly recommended that you resize your input, as this behavior may change.\n",
      "WARNING:tensorflow:Rank of input Tensor (1) should be the same as output_rank (2) for column. Will attempt to expand dims. It is highly recommended that you resize your input, as this behavior may change.\n",
      "WARNING:tensorflow:Rank of input Tensor (1) should be the same as output_rank (2) for column. Will attempt to expand dims. It is highly recommended that you resize your input, as this behavior may change.\n",
      "WARNING:tensorflow:Rank of input Tensor (1) should be the same as output_rank (2) for column. Will attempt to expand dims. It is highly recommended that you resize your input, as this behavior may change.\n",
      "WARNING:tensorflow:Rank of input Tensor (1) should be the same as output_rank (2) for column. Will attempt to expand dims. It is highly recommended that you resize your input, as this behavior may change.\n",
      "WARNING:tensorflow:Rank of input Tensor (1) should be the same as output_rank (2) for column. Will attempt to expand dims. It is highly recommended that you resize your input, as this behavior may change.\n",
      "WARNING:tensorflow:Rank of input Tensor (1) should be the same as output_rank (2) for column. Will attempt to expand dims. It is highly recommended that you resize your input, as this behavior may change.\n",
      "WARNING:tensorflow:Rank of input Tensor (1) should be the same as output_rank (2) for column. Will attempt to expand dims. It is highly recommended that you resize your input, as this behavior may change.\n",
      "WARNING:tensorflow:Rank of input Tensor (1) should be the same as output_rank (2) for column. Will attempt to expand dims. It is highly recommended that you resize your input, as this behavior may change.\n",
      "WARNING:tensorflow:Rank of input Tensor (1) should be the same as output_rank (2) for column. Will attempt to expand dims. It is highly recommended that you resize your input, as this behavior may change.\n",
      "WARNING:tensorflow:Rank of input Tensor (1) should be the same as output_rank (2) for column. Will attempt to expand dims. It is highly recommended that you resize your input, as this behavior may change.\n",
      "WARNING:tensorflow:Rank of input Tensor (1) should be the same as output_rank (2) for column. Will attempt to expand dims. It is highly recommended that you resize your input, as this behavior may change.\n",
      "WARNING:tensorflow:Rank of input Tensor (1) should be the same as output_rank (2) for column. Will attempt to expand dims. It is highly recommended that you resize your input, as this behavior may change.\n",
      "WARNING:tensorflow:Rank of input Tensor (1) should be the same as output_rank (2) for column. Will attempt to expand dims. It is highly recommended that you resize your input, as this behavior may change.\n",
      "WARNING:tensorflow:Rank of input Tensor (1) should be the same as output_rank (2) for column. Will attempt to expand dims. It is highly recommended that you resize your input, as this behavior may change.\n",
      "WARNING:tensorflow:From C:\\Users\\Comp\\Anaconda3\\lib\\site-packages\\tensorflow\\contrib\\learn\\python\\learn\\estimators\\head.py:1362: scalar_summary (from tensorflow.python.ops.logging_ops) is deprecated and will be removed after 2016-11-30.\n",
      "Instructions for updating:\n",
      "Please switch to tf.summary.scalar. Note that tf.summary.scalar uses the node name instead of the tag. This means that TensorFlow will automatically de-duplicate summary names based on the scope they are created in. Also, passing a tensor or list of tags to a scalar summary op is no longer supported.\n",
      "INFO:tensorflow:Starting evaluation at 2017-04-22-12:02:04\n",
      "INFO:tensorflow:Evaluation [1/5000]\n",
      "INFO:tensorflow:Evaluation [2/5000]\n",
      "INFO:tensorflow:Evaluation [3/5000]\n",
      "INFO:tensorflow:Evaluation [4/5000]\n",
      "INFO:tensorflow:Evaluation [5/5000]\n"
     ]
    }
   ],
   "source": [
    "ev = classifier.evaluate(input_fn=lambda: input_fn(test_set), steps=5000)\n",
    "loss_score = ev[\"loss\"]\n",
    "print(\"Loss: {0:f}\".format(loss_score))"
   ]
  },
  {
   "cell_type": "code",
   "execution_count": 57,
   "metadata": {
    "collapsed": false
   },
   "outputs": [],
   "source": [
    "#old accuracy = 0.537109"
   ]
  }
 ],
 "metadata": {
  "anaconda-cloud": {},
  "kernelspec": {
   "display_name": "Python [conda root]",
   "language": "python",
   "name": "conda-root-py"
  },
  "language_info": {
   "codemirror_mode": {
    "name": "ipython",
    "version": 3
   },
   "file_extension": ".py",
   "mimetype": "text/x-python",
   "name": "python",
   "nbconvert_exporter": "python",
   "pygments_lexer": "ipython3",
   "version": "3.5.2"
  }
 },
 "nbformat": 4,
 "nbformat_minor": 1
}
