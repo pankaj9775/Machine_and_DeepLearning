{
 "cells": [
  {
   "cell_type": "code",
   "execution_count": 1,
   "metadata": {
    "collapsed": true
   },
   "outputs": [],
   "source": [
    "import pandas as pd\n",
    "from sklearn import ensemble\n",
    "from sklearn import metrics\n",
    "from sklearn import neural_network\n",
    "from sklearn import neighbors\n",
    "\n",
    "from sklearn import decomposition\n",
    "\n",
    "import matplotlib.pyplot as plt\n",
    "%matplotlib inline"
   ]
  },
  {
   "cell_type": "code",
   "execution_count": 2,
   "metadata": {
    "collapsed": false
   },
   "outputs": [
    {
     "name": "stdout",
     "output_type": "stream",
     "text": [
      "Shape of Train data: (92649, 117)\n",
      "Shape of Test data: (10293, 117)\n",
      "X_train shape: (92649, 115)\n",
      "Y_train shape: (92649,)\n",
      "X_test shape: (10293, 115)\n",
      "Y_test shape: (10293,)\n"
     ]
    }
   ],
   "source": [
    "#Read the data file\n",
    "train = pd.read_csv('./data/dota/dota2Train.csv', header=0, index_col=False)\n",
    "print (\"Shape of Train data:\",train.shape)\n",
    "\n",
    "test = pd.read_csv('./data/dota/dota2Test.csv', header=0, index_col=False)\n",
    "print (\"Shape of Test data:\",test.shape)\n",
    "\n",
    "#prepare Train and Test set\n",
    "X_train = train.ix[:,2:]\n",
    "Y_train = train.ix[:,0]\n",
    "X_test = test.ix[:,2:]\n",
    "Y_test = test.ix[:,0]\n",
    "\n",
    "print (\"X_train shape:\",X_train.shape)\n",
    "print (\"Y_train shape:\",Y_train.shape)\n",
    "print (\"X_test shape:\",X_test.shape)\n",
    "print (\"Y_test shape:\",Y_test.shape)"
   ]
  },
  {
   "cell_type": "code",
   "execution_count": 3,
   "metadata": {
    "collapsed": false
   },
   "outputs": [],
   "source": [
    "import numpy as np\n",
    "\n",
    "xtrain = np.array(X_train)\n",
    "ytrain = np.array(Y_train)\n",
    "xtest = np.array(X_test)\n",
    "ytest = np.array(Y_test)"
   ]
  },
  {
   "cell_type": "code",
   "execution_count": 4,
   "metadata": {
    "collapsed": false
   },
   "outputs": [
    {
     "data": {
      "text/plain": [
       "(92649, 115)"
      ]
     },
     "execution_count": 4,
     "metadata": {},
     "output_type": "execute_result"
    }
   ],
   "source": [
    "xtrain.shape"
   ]
  },
  {
   "cell_type": "code",
   "execution_count": 37,
   "metadata": {
    "collapsed": false
   },
   "outputs": [],
   "source": [
    "pca = decomposition.PCA(n_components=100)\n",
    "\n",
    "xtrain1 = pca.fit_transform(X_train)\n",
    "#xtest1 = X_test\n",
    "xtest1 = pca.fit_transform(X_test)\n",
    "\n",
    "xtrain1 = np.array(xtrain1)\n",
    "xtest1 = np.array(xtest1)"
   ]
  },
  {
   "cell_type": "code",
   "execution_count": 10,
   "metadata": {
    "collapsed": false
   },
   "outputs": [
    {
     "data": {
      "text/plain": [
       "(92649,)"
      ]
     },
     "execution_count": 10,
     "metadata": {},
     "output_type": "execute_result"
    }
   ],
   "source": [
    "ytrain.shape"
   ]
  },
  {
   "cell_type": "code",
   "execution_count": 17,
   "metadata": {
    "collapsed": false
   },
   "outputs": [
    {
     "name": "stdout",
     "output_type": "stream",
     "text": [
      "Model Accuracy: 53.09 %\n",
      "\n",
      "\tRandom Forrest classification report:\n",
      "                 precision    recall  f1-score   support\n",
      "\n",
      "   Dire Victory       0.50      0.53      0.51      4791\n",
      "Radiant Victory       0.57      0.53      0.55      5502\n",
      "\n",
      "    avg / total       0.53      0.53      0.53     10293\n",
      "\n",
      "\n"
     ]
    }
   ],
   "source": [
    "nn = neural_network.MLPClassifier(hidden_layer_sizes=(100,100),max_iter=5000, batch_size=200)\n",
    "y_pred_nn = nn.fit(xtrain,ytrain).predict(xtest)\n",
    "print (\"Model Accuracy:\",round((metrics.accuracy_score(Y_test, y_pred_nn)*100),2),\"%\")\n",
    "print (\"\\n\\tRandom Forrest classification report:\\n%s\\n\" %\n",
    "       metrics.classification_report(ytest,y_pred_nn,target_names=[\"Dire Victory\", \"Radiant Victory\"]))"
   ]
  },
  {
   "cell_type": "code",
   "execution_count": 43,
   "metadata": {
    "collapsed": false
   },
   "outputs": [
    {
     "name": "stdout",
     "output_type": "stream",
     "text": [
      "Model Accuracy: 58.61 %\n",
      "\n",
      "\tRandom Forrest classification report:\n",
      "             precision    recall  f1-score   support\n",
      "\n",
      "         -1       0.57      0.48      0.52      4791\n",
      "          1       0.60      0.68      0.64      5502\n",
      "\n",
      "avg / total       0.58      0.59      0.58     10293\n",
      "\n",
      "\n"
     ]
    }
   ],
   "source": [
    "rand = ensemble.RandomForestClassifier(n_estimators=1000)\n",
    "y_pred_rand = rand.fit(xtrain,ytrain).predict(xtest)\n",
    "print (\"Model Accuracy:\",round((metrics.accuracy_score(Y_test, y_pred_rand)*100),2),\"%\")\n",
    "print (\"\\n\\tRandom Forrest classification report:\\n%s\\n\" %\n",
    "       metrics.classification_report(ytest,y_pred_rand))"
   ]
  },
  {
   "cell_type": "code",
   "execution_count": 41,
   "metadata": {
    "collapsed": false
   },
   "outputs": [
    {
     "name": "stdout",
     "output_type": "stream",
     "text": [
      "Model Accuracy: 59.78 %\n",
      "\n",
      "\tLogit classification report:\n",
      "             precision    recall  f1-score   support\n",
      "\n",
      "         -1       0.58      0.52      0.54      4791\n",
      "          1       0.61      0.67      0.64      5502\n",
      "\n",
      "avg / total       0.60      0.60      0.60     10293\n",
      "\n",
      "\n"
     ]
    }
   ],
   "source": [
    "from sklearn.linear_model import LogisticRegression\n",
    "lr = LogisticRegression(solver='sag', max_iter=1000)\n",
    "y_pred_lr = lr.fit(xtrain,ytrain).predict(xtest)\n",
    "print (\"Model Accuracy:\",round((metrics.accuracy_score(Y_test,y_pred_lr)*100),2),\"%\")\n",
    "print (\"\\n\\tLogit classification report:\\n%s\\n\" %\n",
    "       metrics.classification_report(Y_test,y_pred_lr))"
   ]
  }
 ],
 "metadata": {
  "kernelspec": {
   "display_name": "Python [conda root]",
   "language": "python",
   "name": "conda-root-py"
  },
  "language_info": {
   "codemirror_mode": {
    "name": "ipython",
    "version": 3
   },
   "file_extension": ".py",
   "mimetype": "text/x-python",
   "name": "python",
   "nbconvert_exporter": "python",
   "pygments_lexer": "ipython3",
   "version": "3.5.2"
  }
 },
 "nbformat": 4,
 "nbformat_minor": 1
}
